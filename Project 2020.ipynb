{
 "cells": [
  {
   "cell_type": "markdown",
   "metadata": {},
   "source": [
    "# Programming for Data Analysis Project 2020"
   ]
  },
  {
   "cell_type": "markdown",
   "metadata": {},
   "source": [
    "## By Carol Treacy"
   ]
  },
  {
   "cell_type": "markdown",
   "metadata": {},
   "source": [
    "## Table of contents"
   ]
  },
  {
   "cell_type": "markdown",
   "metadata": {},
   "source": [
    "- Introduction \n",
    "\n",
    "- Objectives\n",
    "\n",
    "- Import data from libraries\n",
    "\n",
    "- Research Topic\n",
    "\n",
    "- Generate data\n",
    "\n",
    "- Relationships\n",
    "\n",
    "- Data Exploration\n",
    "\n",
    "- Distribution\n",
    "\n",
    "- Conclusion\n",
    "\n",
    "- References\n",
    "\n",
    "- End"
   ]
  },
  {
   "cell_type": "markdown",
   "metadata": {},
   "source": [
    "## Introduction "
   ]
  },
  {
   "cell_type": "markdown",
   "metadata": {},
   "source": [
    "This Project is going to choose a real-world phenomenon of my personal interest and randomly select the data.  Instead of choosing a phenomenon that has data already collected, I will model and synthesise my own data using Python.  I will use numpy.randompackge to simulate my real-world phenomenon."
   ]
  },
  {
   "cell_type": "markdown",
   "metadata": {},
   "source": [
    "## Objectives"
   ]
  },
  {
   "cell_type": "markdown",
   "metadata": {},
   "source": [
    "- Simulate a real work phonomenon\n",
    "- Select one hundred data points with four different variables\n",
    "- Investigate the types of variables, distrubtion and relationships\n",
    "- Synthesise/simulate a data set as closely matching their properties as possible"
   ]
  },
  {
   "cell_type": "markdown",
   "metadata": {},
   "source": [
    "## Import data from libraries"
   ]
  },
  {
   "cell_type": "code",
   "execution_count": 3,
   "metadata": {},
   "outputs": [],
   "source": [
    "# to start using numpy.random you have to import numpy, matplotlib, pandas and seaborn\n",
    "import numpy as np\n",
    "from numpy import random\n",
    "import matplotlib.pyplot as plt\n",
    "import pandas as pd\n",
    "import seaborn as sns"
   ]
  },
  {
   "cell_type": "markdown",
   "metadata": {},
   "source": [
    "## Research topic"
   ]
  },
  {
   "cell_type": "markdown",
   "metadata": {},
   "source": [
    "The real-world phenomenon that I am going to chose is shopping in store or shopping online.  I will use the month of October 2020 and create random data using the numpy.random package."
   ]
  },
  {
   "cell_type": "markdown",
   "metadata": {},
   "source": [
    "## Generate Data"
   ]
  },
  {
   "cell_type": "code",
   "execution_count": 6,
   "metadata": {},
   "outputs": [
    {
     "name": "stdout",
     "output_type": "stream",
     "text": [
      "2020-12-16 09:43:05.490449\n"
     ]
    }
   ],
   "source": [
    "# immport datetime and printed today's date\n",
    "import datetime\n",
    "\n",
    "x = datetime.datetime.now()\n",
    "print(x)"
   ]
  },
  {
   "cell_type": "code",
   "execution_count": 9,
   "metadata": {},
   "outputs": [
    {
     "name": "stdout",
     "output_type": "stream",
     "text": [
      "2020-09-28\n",
      "2020-09-29\n",
      "2020-09-30\n",
      "2020-10-01\n",
      "2020-10-02\n",
      "2020-10-03\n",
      "2020-10-04\n",
      "2020-10-05\n",
      "2020-10-06\n",
      "2020-10-07\n",
      "2020-10-08\n",
      "2020-10-09\n",
      "2020-10-10\n",
      "2020-10-11\n",
      "2020-10-12\n",
      "2020-10-13\n",
      "2020-10-14\n",
      "2020-10-15\n",
      "2020-10-16\n",
      "2020-10-17\n",
      "2020-10-18\n",
      "2020-10-19\n",
      "2020-10-20\n",
      "2020-10-21\n",
      "2020-10-22\n",
      "2020-10-23\n",
      "2020-10-24\n",
      "2020-10-25\n",
      "2020-10-26\n",
      "2020-10-27\n",
      "2020-10-28\n"
     ]
    }
   ],
   "source": [
    "# code started from https://stackoverflow.com/questions/57274902/python-iterate-over-all-days-in-a-month\n",
    "\n",
    "# I couldn't get this to print calendar month \n",
    "\n",
    "from calendar import Calendar, monthrange\n",
    "c = Calendar()\n",
    "\n",
    "for date in list(c.itermonthdates(2020, 10))[:monthrange(2020, 10)[1]]:\n",
    "    print(date)  "
   ]
  },
  {
   "cell_type": "code",
   "execution_count": 10,
   "metadata": {},
   "outputs": [
    {
     "data": {
      "text/plain": [
       "[datetime.date(2020, 10, 1),\n",
       " datetime.date(2020, 10, 2),\n",
       " datetime.date(2020, 10, 3),\n",
       " datetime.date(2020, 10, 4),\n",
       " datetime.date(2020, 10, 5),\n",
       " datetime.date(2020, 10, 6),\n",
       " datetime.date(2020, 10, 7),\n",
       " datetime.date(2020, 10, 8),\n",
       " datetime.date(2020, 10, 9),\n",
       " datetime.date(2020, 10, 10),\n",
       " datetime.date(2020, 10, 11),\n",
       " datetime.date(2020, 10, 12),\n",
       " datetime.date(2020, 10, 13),\n",
       " datetime.date(2020, 10, 14),\n",
       " datetime.date(2020, 10, 15),\n",
       " datetime.date(2020, 10, 16),\n",
       " datetime.date(2020, 10, 17),\n",
       " datetime.date(2020, 10, 18),\n",
       " datetime.date(2020, 10, 19),\n",
       " datetime.date(2020, 10, 20),\n",
       " datetime.date(2020, 10, 21),\n",
       " datetime.date(2020, 10, 22),\n",
       " datetime.date(2020, 10, 23),\n",
       " datetime.date(2020, 10, 24),\n",
       " datetime.date(2020, 10, 25),\n",
       " datetime.date(2020, 10, 26),\n",
       " datetime.date(2020, 10, 27),\n",
       " datetime.date(2020, 10, 28),\n",
       " datetime.date(2020, 10, 29),\n",
       " datetime.date(2020, 10, 30),\n",
       " datetime.date(2020, 10, 31)]"
      ]
     },
     "execution_count": 10,
     "metadata": {},
     "output_type": "execute_result"
    }
   ],
   "source": [
    "# code started from https://stackoverflow.com/questions/21231789/how-to-get-all-days-in-current-month\n",
    "\n",
    "import datetime, calendar\n",
    "year = 2020\n",
    "month = 10\n",
    "num_days = calendar.monthrange(year, month)[1]\n",
    "days = [datetime.date(year, month, day) for day in range(1, num_days+1)]\n",
    "days"
   ]
  },
  {
   "cell_type": "code",
   "execution_count": 13,
   "metadata": {},
   "outputs": [],
   "source": [
    "y = days\n"
   ]
  },
  {
   "cell_type": "code",
   "execution_count": 14,
   "metadata": {},
   "outputs": [
    {
     "data": {
      "text/plain": [
       "[datetime.date(2020, 10, 1),\n",
       " datetime.date(2020, 10, 2),\n",
       " datetime.date(2020, 10, 3),\n",
       " datetime.date(2020, 10, 4),\n",
       " datetime.date(2020, 10, 5),\n",
       " datetime.date(2020, 10, 6),\n",
       " datetime.date(2020, 10, 7),\n",
       " datetime.date(2020, 10, 8),\n",
       " datetime.date(2020, 10, 9),\n",
       " datetime.date(2020, 10, 10),\n",
       " datetime.date(2020, 10, 11),\n",
       " datetime.date(2020, 10, 12),\n",
       " datetime.date(2020, 10, 13),\n",
       " datetime.date(2020, 10, 14),\n",
       " datetime.date(2020, 10, 15),\n",
       " datetime.date(2020, 10, 16),\n",
       " datetime.date(2020, 10, 17),\n",
       " datetime.date(2020, 10, 18),\n",
       " datetime.date(2020, 10, 19),\n",
       " datetime.date(2020, 10, 20),\n",
       " datetime.date(2020, 10, 21),\n",
       " datetime.date(2020, 10, 22),\n",
       " datetime.date(2020, 10, 23),\n",
       " datetime.date(2020, 10, 24),\n",
       " datetime.date(2020, 10, 25),\n",
       " datetime.date(2020, 10, 26),\n",
       " datetime.date(2020, 10, 27),\n",
       " datetime.date(2020, 10, 28),\n",
       " datetime.date(2020, 10, 29),\n",
       " datetime.date(2020, 10, 30),\n",
       " datetime.date(2020, 10, 31)]"
      ]
     },
     "execution_count": 14,
     "metadata": {},
     "output_type": "execute_result"
    }
   ],
   "source": [
    "y"
   ]
  },
  {
   "cell_type": "code",
   "execution_count": 12,
   "metadata": {},
   "outputs": [
    {
     "data": {
      "text/plain": [
       "array(['Dublin', 'Cork', 'Dublin', 'Limerick', 'Limerick', 'Limerick',\n",
       "       'Limerick', 'Limerick', 'Limerick', 'Dublin', 'Limerick',\n",
       "       'Limerick', 'Limerick', 'Dublin', 'Dublin', 'Limerick', 'Dublin',\n",
       "       'Limerick', 'Limerick', 'Cork', 'Limerick', 'Limerick', 'Dublin',\n",
       "       'Limerick', 'Dublin', 'Limerick', 'Limerick', 'Tipperary',\n",
       "       'Dublin', 'Limerick', 'Limerick', 'Limerick', 'Limerick', 'Dublin',\n",
       "       'Dublin', 'Cork', 'Dublin', 'Limerick', 'Cork', 'Dublin', 'Dublin',\n",
       "       'Limerick', 'Limerick', 'Dublin', 'Limerick', 'Dublin', 'Limerick',\n",
       "       'Tipperary', 'Tipperary', 'Limerick', 'Dublin', 'Dublin', 'Cork',\n",
       "       'Dublin', 'Dublin', 'Limerick', 'Cork', 'Dublin', 'Limerick',\n",
       "       'Limerick', 'Dublin', 'Limerick', 'Limerick', 'Tipperary',\n",
       "       'Dublin', 'Limerick', 'Cork', 'Limerick', 'Limerick', 'Dublin',\n",
       "       'Limerick', 'Dublin', 'Limerick', 'Limerick', 'Dublin', 'Dublin',\n",
       "       'Dublin', 'Dublin', 'Limerick', 'Limerick', 'Tipperary', 'Cork',\n",
       "       'Cork', 'Tipperary', 'Dublin', 'Limerick', 'Dublin', 'Dublin',\n",
       "       'Dublin', 'Limerick', 'Cork', 'Limerick', 'Cork', 'Limerick',\n",
       "       'Limerick', 'Cork', 'Limerick', 'Tipperary', 'Dublin', 'Dublin'],\n",
       "      dtype='<U9')"
      ]
     },
     "execution_count": 12,
     "metadata": {},
     "output_type": "execute_result"
    }
   ],
   "source": [
    "# started code from https://docs.scipy.org/doc//numpy-1.10.4/reference/generated/numpy.random.choice.html\n",
    "# using numpy.random to select 100 counties\n",
    "aa_milne_arr = ['Limerick', 'Cork', 'Tipperary', 'Dublin']# list of counties\n",
    "np.random.choice(aa_milne_arr, 100, p=[0.5, 0.1, 0.1, 0.3])\n"
   ]
  },
  {
   "cell_type": "code",
   "execution_count": 32,
   "metadata": {},
   "outputs": [],
   "source": [
    "# randomly select how much they spend in store = x\n",
    "x = np.random.choice(1000, 100)\n",
    "# randomly selects 100 numbers between 0 and 100"
   ]
  },
  {
   "cell_type": "code",
   "execution_count": 33,
   "metadata": {},
   "outputs": [
    {
     "data": {
      "text/plain": [
       "array([948, 504, 109, 348, 771, 344, 916, 190, 392, 497, 975, 816,  60,\n",
       "       128, 502, 618, 158, 954, 401, 900, 596, 501, 262, 319, 984, 969,\n",
       "       619, 464, 874, 278, 687, 849, 565, 638, 138, 951, 508, 159, 838,\n",
       "       847, 877, 417, 477, 956, 832, 756, 384,  96, 419, 282, 250, 428,\n",
       "       183, 851, 572, 387, 926, 605, 528, 899, 994,  27, 431, 233, 841,\n",
       "       890, 223, 531, 282, 198,  87, 189, 106, 883, 422,   5, 189, 238,\n",
       "       315, 257, 131, 432, 343, 981, 164,   8,   6, 444, 635, 347, 416,\n",
       "       825, 664, 377, 967, 930, 676,  32, 344,  42])"
      ]
     },
     "execution_count": 33,
     "metadata": {},
     "output_type": "execute_result"
    }
   ],
   "source": [
    "x"
   ]
  },
  {
   "cell_type": "code",
   "execution_count": 34,
   "metadata": {},
   "outputs": [],
   "source": [
    "# randomly select how much they spend online = y\n",
    "y =  np.random.choice(1000, 100)"
   ]
  },
  {
   "cell_type": "code",
   "execution_count": 35,
   "metadata": {},
   "outputs": [
    {
     "data": {
      "text/plain": [
       "array([770, 908, 209, 750, 494,  13, 420, 449, 829, 870, 572, 396, 115,\n",
       "       988, 590,  83, 257, 908, 196, 978, 878, 637,  91, 665, 572, 750,\n",
       "       680,  16, 955, 863, 717, 592, 891, 486,  68, 397, 614,  49, 172,\n",
       "       958, 373, 923, 355, 668, 890, 322, 239, 687, 413, 560, 112, 381,\n",
       "       749, 262, 616, 780, 447, 510, 170, 253, 896, 886, 404, 419,  59,\n",
       "       105, 996,  55, 664, 999, 613, 105, 397,  67, 765, 621,  17, 781,\n",
       "       322, 350, 625, 701, 903, 200, 102,  81, 932, 565, 326, 845, 493,\n",
       "       332, 764, 629,  71, 629,  81, 572, 411, 676])"
      ]
     },
     "execution_count": 35,
     "metadata": {},
     "output_type": "execute_result"
    }
   ],
   "source": [
    "y"
   ]
  },
  {
   "cell_type": "markdown",
   "metadata": {},
   "source": [
    "## SQLite in Python"
   ]
  },
  {
   "cell_type": "code",
   "execution_count": 37,
   "metadata": {},
   "outputs": [],
   "source": [
    "# create data base for random data\n",
    "import sqlite3"
   ]
  },
  {
   "cell_type": "code",
   "execution_count": 38,
   "metadata": {},
   "outputs": [],
   "source": [
    "conn = sqlite3.connect('salesdata.db')"
   ]
  },
  {
   "cell_type": "code",
   "execution_count": 39,
   "metadata": {},
   "outputs": [],
   "source": [
    "c = conn.cursor()"
   ]
  },
  {
   "cell_type": "code",
   "execution_count": 42,
   "metadata": {},
   "outputs": [],
   "source": [
    "# Create table\n",
    "c.execute('CREATE TABLE persons(date text, name text, address text, instore real, online real)')\n",
    "conn.commit()"
   ]
  },
  {
   "cell_type": "code",
   "execution_count": 43,
   "metadata": {},
   "outputs": [
    {
     "data": {
      "text/plain": [
       "[('person',), ('persons',)]"
      ]
     },
     "execution_count": 43,
     "metadata": {},
     "output_type": "execute_result"
    }
   ],
   "source": [
    "# Create table\n",
    "c.execute(\"SELECT name FROM sqlite_master WHERE type='table'\")\n",
    "c.fetchall()"
   ]
  },
  {
   "cell_type": "code",
   "execution_count": 44,
   "metadata": {},
   "outputs": [
    {
     "data": {
      "text/plain": [
       "<function Connection.commit>"
      ]
     },
     "execution_count": 44,
     "metadata": {},
     "output_type": "execute_result"
    }
   ],
   "source": [
    "# I inputed the data myself, I was unable to insert the data I using numpy to randomly select\n",
    "c.execute(\"INSERT INTO person VALUES('01/10/20','Mary Ryan', 'Tipperary', '€15.30', '€54.31')\")\n",
    "c.execute(\"INSERT INTO person VALUES('01/10/20','Tom Jones', 'Cork', '€75.30', '€54.31')\")\n",
    "c.execute(\"INSERT INTO person VALUES('01/10/20','Sue Bloggs', 'Limerick', '€19.31', '€104.32')\")\n",
    "c.execute(\"INSERT INTO person VALUES('02/10/20','Noreen Ryan', 'Dublin', '€105.30', '€54.31')\")\n",
    "c.execute(\"INSERT INTO person VALUES('02/10/20','Carol Kerns', 'Tipperary', '€150.30', '€454.32')\")\n",
    "c.execute(\"INSERT INTO person VALUES('02/10/20','Joe Maher', 'Meath', '€15.30', '€4.31')\")\n",
    "c.execute(\"INSERT INTO person VALUES('02/10/20','Anna Corcoran', 'Mayo', '€415.30', '€954.61')\")\n",
    "c.execute(\"INSERT INTO person VALUES('03/10/20','Michelle Ryan', 'Mayo', '€5.30', '€64.31')\")\n",
    "c.execute(\"INSERT INTO person VALUES('04/10/20','Moira Browne', 'Tipperary', '€15.36', '€94.31')\")\n",
    "c.execute(\"INSERT INTO person VALUES('04/10/20','Patrick Treacy', 'Cork', '€65.30', '€54.31')\")\n",
    "c.execute(\"INSERT INTO person VALUES('04/10/20','Peggy Greene', 'Belfast', '€151.70', '€453.81')\")\n",
    "c.execute(\"INSERT INTO person VALUES('05/10/20','Michael Browne', 'Kerry', '€115.40', '€546.38')\")\n",
    "c.execute(\"INSERT INTO person VALUES('05/10/20','Mary Murphy', 'Mayo', '€100.30', '€54.31')\")\n",
    "c.execute(\"INSERT INTO person VALUES('06/10/20','Catherine Givens', 'Mayo', '€00.00', '€54.31')\")\n",
    "c.execute(\"INSERT INTO person VALUES('06/10/20','Tom Murphy', 'Tipperary', '€5.30', '€54.31')\")\n",
    "c.execute(\"INSERT INTO person VALUES('06/10/20','John Brett', 'Cork', '€5.30', '€54.34')\")\n",
    "c.execute(\"INSERT INTO person VALUES('07/10/20','Andy Treacy', 'Limerick', '€19.31', '€114.32')\")\n",
    "c.execute(\"INSERT INTO person VALUES('07/10/20','Paudie Burke', 'Dublin', '€106.30', '€53.31')\")\n",
    "c.execute(\"INSERT INTO person VALUES('07/10/20','Nonie Murphy', 'Tipperary', '€15.30', '€54.31')\")\n",
    "c.execute(\"INSERT INTO person VALUES('08/10/20','Helen Gleeson', 'Waterford', '€16.30', '€64.31')\")\n",
    "c.execute(\"INSERT INTO person VALUES('08/10/20','Sean Meagher', 'Mayo', '€00.00', '€542.11')\")\n",
    "c.execute(\"INSERT INTO person VALUES('08/10/20','Mary Gleeson', 'Mayo', '€00.00', '€154.31')\")\n",
    "c.execute(\"INSERT INTO person VALUES('09/10/20','Carol Brett', 'Cork', '€00.00', '€54.41')\")\n",
    "c.execute(\"INSERT INTO person VALUES('09/10/20','Paul Hayes', 'Limerick', '€15.30', '€594.37')\")\n",
    "c.execute(\"INSERT INTO person VALUES('10/10/20','Margaret Cornally', 'Meath', '€00.00', '€14.31')\")\n",
    "c.execute(\"INSERT INTO person VALUES('10/10/20','Jim Ryan', 'Dublin', '€15.30', '€00.00')\")\n",
    "c.execute(\"INSERT INTO person VALUES('10/10/20','Ann Jones', 'Waterford', '€115.30', '€549.21')\")\n",
    "c.execute(\"INSERT INTO person VALUES('10/10/20','Michael Ryan', 'Waterford', '€00.00', '€544.31')\")\n",
    "c.execute(\"INSERT INTO person VALUES('11/10/20','James Murphy', 'Tipperary', '€15.30', '€00.00')\")\n",
    "c.execute(\"INSERT INTO person VALUES('11/10/20','Tom Ryan', 'Cork', '€75.30', '€24.31')\")\n",
    "c.execute(\"INSERT INTO person VALUES('11/10/20','Sue Jones', 'Limerick', '€199.31', '€704.32')\")\n",
    "c.execute(\"INSERT INTO person VALUES('11/10/20','Noreen Brett', 'Dublin', '€105.30', '€00.00')\")\n",
    "c.execute(\"INSERT INTO person VALUES('12/10/20','Mary Burke', 'Tipperary', '€159.30', '€00.00')\")\n",
    "c.execute(\"INSERT INTO person VALUES('12/10/20','Oliver Ryan', 'Donegal', '€00.00', '€254.31')\")\n",
    "c.execute(\"INSERT INTO person VALUES('12/10/20','PJ Burke', 'Cork', '€4.30', '€54.00')\")\n",
    "c.execute(\"INSERT INTO person VALUES('12/10/20','Patrick Corcoran', 'Cork', '€15.30', '€54.31')\")\n",
    "c.execute(\"INSERT INTO person VALUES('12/10/20','June Roberts', 'Cork', '€145.30', '€254.31')\")\n",
    "c.execute(\"INSERT INTO person VALUES('12/10/20','May Burke', 'Kerry', '€00.00', '€44.31')\")\n",
    "c.execute(\"INSERT INTO person VALUES('12/10/20','Winter Ryan', 'Tipperary', '€15.39', '€34.31')\")\n",
    "c.execute(\"INSERT INTO person VALUES('12/10/20','Una Jones', 'Kerry', '€00.00', '€54.31')\")\n",
    "c.execute(\"INSERT INTO person VALUES('13/10/20','Albert Brett', 'Wexford', '€15.30', '€44.31')\")\n",
    "c.execute(\"INSERT INTO person VALUES('13/10/20','Maggie Bourke', 'Cork', '€00.00', '€354.37')\")\n",
    "c.execute(\"INSERT INTO person VALUES('13/10/20','Kerry Ryan', 'Tipperary', '€00.00', '€54.32')\")\n",
    "c.execute(\"INSERT INTO person VALUES('13/10/20','Tom Roberts', 'Cork', '€75.30', '€54.31')\")\n",
    "c.execute(\"INSERT INTO person VALUES('13/10/20','Sue Corcoran', 'Limerick', '€19.31', '€105.32')\")\n",
    "c.execute(\"INSERT INTO person VALUES('13/10/20','Noreen Carey', 'Dublin', '€00.00', '€54.31')\")\n",
    "c.execute(\"INSERT INTO person VALUES('13/10/20','Paul Burke', 'Tipperary', '€00.0', '€54.61')\")\n",
    "c.execute(\"INSERT INTO person VALUES('14/10/20','Michael O Rourke', 'Limerick', '€00.00', '€24.38')\")\n",
    "c.execute(\"INSERT INTO person VALUES('14/10/20','David O Flaherty', 'Limerick', '€00.00', '€14.99')\")\n",
    "c.execute(\"INSERT INTO person VALUES('14/10/20','Matthew Fitzsimmons', 'Tipperary', '€5.30', '€54.99')\")\n",
    "c.execute(\"INSERT INTO person VALUES('14/10/20','Jim Jones', 'Tipperary', '€5.39', '€105.99')\")\n",
    "c.execute(\"INSERT INTO person VALUES('15/10/20','James O Connor', 'Limerick', '€5.30', '€53.99')\")\n",
    "c.execute(\"INSERT INTO person VALUES('15/10/20','Michael Burke', 'Limerick', '€00.00', '€54.99')\")\n",
    "c.execute(\"INSERT INTO person VALUES('15/10/20','Olivia Ryan', 'Donegal', '€00.00', '€154.00')\")\n",
    "c.execute(\"INSERT INTO person VALUES('15/10/20','Nuala Brett', 'Wexford', '€00.00', '€58.00')\")\n",
    "c.execute(\"INSERT INTO person VALUES('16/10/20','Nicola O Connor', 'Mayo', '€00.00', '€154.31')\")\n",
    "c.execute(\"INSERT INTO person VALUES('16/10/20','Claire Greene', 'Tipperary', '€00.00', '€64.01')\")\n",
    "c.execute(\"INSERT INTO person VALUES('16/10/20','Pauline Murphy', 'Cork', '€5.30', '€54.00')\")\n",
    "c.execute(\"INSERT INTO person VALUES('17/10/20','Sue Fitzgerald', 'Limerick', '€19.31', '€04.32')\")\n",
    "c.execute(\"INSERT INTO person VALUES('17/10/20','Noreen O Rourke', 'Dublin', '€105.30', '€64.31')\")\n",
    "c.execute(\"INSERT INTO person VALUES('18/10/20','Sophie Murphy', 'Tipperary', '€115.30', '€54.31')\")\n",
    "c.execute(\"INSERT INTO person VALUES('18/10/20','Chloe Jones', 'Wexford', '€00.00', '€543.31')\")\n",
    "c.execute(\"INSERT INTO person VALUES('18/10/20','Emma O Connor', 'Wexford', '€00.00', '€54.31')\")\n",
    "c.execute(\"INSERT INTO person VALUES('18/10/20','Moira Ryan', 'Mayo', '€15.30', '€154.31')\")\n",
    "c.execute(\"INSERT INTO person VALUES('19/10/20','David Dunne', 'Galway', '€00.00', '€54.31')\")\n",
    "c.execute(\"INSERT INTO person VALUES('19/10/20','Nuala Fitzpatrick', 'Galway', '€00.00', '€154.00')\")\n",
    "c.execute(\"INSERT INTO person VALUES('19/10/20','Deirdre Ryan', 'Tipperary', '€00.00', '€54.31')\")\n",
    "c.execute(\"INSERT INTO person VALUES('20/10/20','Mary Fitzpatrick', 'Cork', '€00.00', '€524.00')\")\n",
    "c.execute(\"INSERT INTO person VALUES('20/10/20','Caroline O Meara', 'Cork', '€15.00', '€00.00')\")\n",
    "c.execute(\"INSERT INTO person VALUES('21/10/20','Jack Fitzsimmons', 'Donegal', '€14.30', '€00.00')\")\n",
    "c.execute(\"INSERT INTO person VALUES('21/10/20','Pat Carey', 'Donegal', '€00.00', '€44.00')\")\n",
    "c.execute(\"INSERT INTO person VALUES('21/10/20','Tom O Brien', 'Cork', '€75.30', '€00.00')\")\n",
    "c.execute(\"INSERT INTO person VALUES('22/10/20','Sue O Keeffe', 'Limerick', '€19.00', '€105.32')\")\n",
    "c.execute(\"INSERT INTO person VALUES('22/10/20','Noreen Smyth', 'Dublin', '€105.31', '€59.00')\")\n",
    "c.execute(\"INSERT INTO person VALUES('22/10/20','Petula Smyth', 'Tipperary', '€15.30', '€00.00')\")\n",
    "c.execute(\"INSERT INTO person VALUES('22/10/20','Nancy Duff', 'Donegal', '€00.00', '€154.99')\")\n",
    "c.execute(\"INSERT INTO person VALUES('22/10/20','Fay O Brien', 'Tipperary', '€00.00', '€54.00')\")\n",
    "c.execute(\"INSERT INTO person VALUES('23/10/20','Conor O Brien', 'Tipperary', '€5.30', '€59.00')\")\n",
    "c.execute(\"INSERT INTO person VALUES('23/10/20','Bryan Ryan', 'Cork', '€00.00', '€54.00')\")\n",
    "c.execute(\"INSERT INTO person VALUES('24/10/20','Fergal Kerns', 'Cork', '€00.00', '€254.99')\")\n",
    "c.execute(\"INSERT INTO person VALUES('25/10/20','Dermot O Brien', 'Belfast', '€00.00', '€54.65')\")\n",
    "c.execute(\"INSERT INTO person VALUES('26/10/20','Maisy Summer', 'Waterford', '€00.00', '€54.97')\")\n",
    "c.execute(\"INSERT INTO person VALUES('27/10/20','Emma O Dee', 'Cavan', '€00.00', '€44.33')\")\n",
    "c.execute(\"INSERT INTO person VALUES('28/10/20','Deirdre Murphy', 'Limerick', '€00.00', '€100.00')\")\n",
    "c.execute(\"INSERT INTO person VALUES('28/10/20','Mary Smyth', 'Tipperary', '€15.30', '€54.31')\")\n",
    "c.execute(\"INSERT INTO person VALUES('28/10/20','Nancy Jones', 'Cork', '€75.30', '€54.00')\")\n",
    "c.execute(\"INSERT INTO person VALUES('29/10/20','Sue O Brien', 'Limerick', '€18.31', '€104.30')\")\n",
    "c.execute(\"INSERT INTO person VALUES('29/10/20','Noreen Winter', 'Dublin', '€00.00', '€44.33')\")\n",
    "c.execute(\"INSERT INTO person VALUES('29/10/20','Margaret O Brien', 'Dublin', '€115.00', '€00.00')\")\n",
    "c.execute(\"INSERT INTO person VALUES('29/10/20','May Slattery', 'Meath', '€00.00', '€57.39')\")\n",
    "c.execute(\"INSERT INTO person VALUES('30/10/20','Mary Slattery', 'Kerry', '€00.00', '€54.36')\")\n",
    "c.execute(\"INSERT INTO person VALUES('30/10/20','Sam Ryan', 'Kerry', '€00.00', '€52.00')\")\n",
    "c.execute(\"INSERT INTO person VALUES('30/10/20','John Ryan', 'Mayo', '€00.00', '€154.00')\")\n",
    "c.execute(\"INSERT INTO person VALUES('30/10/20','Liam Ryan', 'Galway', '€19.30', '€154.31')\")\n",
    "c.execute(\"INSERT INTO person VALUES('30/10/20','Brid Ryan', 'Galway', '€19.90', '€00.00')\")\n",
    "c.execute(\"INSERT INTO person VALUES('31/10/20','Sophia Ryan', 'Derry', '€00.00', '€54.99')\")\n",
    "c.execute(\"INSERT INTO person VALUES('31/10/20','Mary Fitzpatrick', 'Dublin', '€00.00', '€45.54')\")\n",
    "c.execute(\"INSERT INTO person VALUES('31/10/20','Caroline Smyth', 'Tipperary', '€00.00', '€56.89')\")\n",
    "c.execute(\"INSERT INTO person VALUES('31/10/20','Helena Jones', 'Tipperary', '€00.00', '€59.69')\")\n",
    "c.execute(\"INSERT INTO person VALUES('31/10/20','Helen Jones', 'Cork', '€75.39', '€24.99')\")\n",
    "conn.commit"
   ]
  },
  {
   "cell_type": "code",
   "execution_count": 45,
   "metadata": {},
   "outputs": [
    {
     "data": {
      "text/plain": [
       "[(8, '01/10/20', 'Mary Ryan', 'Tipperary', '€15.30', '€54.31'),\n",
       " (9, '01/10/20', 'Tom Jones', 'Cork', '€75.30', '€54.31'),\n",
       " (10, '01/10/20', 'Sue Bloggs', 'Limerick', '€19.31', '€104.32'),\n",
       " (11, '02/10/20', 'Noreen Ryan', 'Dublin', '€105.30', '€54.31'),\n",
       " (12, '02/10/20', 'Carol Kerns', 'Tipperary', '€150.30', '€454.32'),\n",
       " (13, '02/10/20', 'Joe Maher', 'Meath', '€15.30', '€4.31'),\n",
       " (14, '02/10/20', 'Anna Corcoran', 'Mayo', '€415.30', '€954.61'),\n",
       " (15, '03/10/20', 'Michelle Ryan', 'Mayo', '€5.30', '€64.31'),\n",
       " (16, '04/10/20', 'Moira Browne', 'Tipperary', '€15.36', '€94.31'),\n",
       " (17, '04/10/20', 'Patrick Treacy', 'Cork', '€65.30', '€54.31'),\n",
       " (18, '04/10/20', 'Peggy Greene', 'Belfast', '€151.70', '€453.81'),\n",
       " (19, '05/10/20', 'Michael Browne', 'Kerry', '€115.40', '€546.38'),\n",
       " (20, '05/10/20', 'Mary Murphy', 'Mayo', '€100.30', '€54.31'),\n",
       " (21, '06/10/20', 'Catherine Givens', 'Mayo', '€00.00', '€54.31'),\n",
       " (22, '06/10/20', 'Tom Murphy', 'Tipperary', '€5.30', '€54.31'),\n",
       " (23, '06/10/20', 'John Brett', 'Cork', '€5.30', '€54.34'),\n",
       " (24, '07/10/20', 'Andy Treacy', 'Limerick', '€19.31', '€114.32'),\n",
       " (25, '07/10/20', 'Paudie Burke', 'Dublin', '€106.30', '€53.31'),\n",
       " (26, '07/10/20', 'Nonie Murphy', 'Tipperary', '€15.30', '€54.31'),\n",
       " (27, '08/10/20', 'Helen Gleeson', 'Waterford', '€16.30', '€64.31'),\n",
       " (28, '08/10/20', 'Sean Meagher', 'Mayo', '€00.00', '€542.11'),\n",
       " (29, '08/10/20', 'Mary Gleeson', 'Mayo', '€00.00', '€154.31'),\n",
       " (30, '09/10/20', 'Carol Brett', 'Cork', '€00.00', '€54.41'),\n",
       " (31, '09/10/20', 'Paul Hayes', 'Limerick', '€15.30', '€594.37'),\n",
       " (32, '10/10/20', 'Margaret Cornally', 'Meath', '€00.00', '€14.31'),\n",
       " (33, '10/10/20', 'Jim Ryan', 'Dublin', '€15.30', '€00.00'),\n",
       " (34, '10/10/20', 'Ann Jones', 'Waterford', '€115.30', '€549.21'),\n",
       " (35, '10/10/20', 'Michael Ryan', 'Waterford', '€00.00', '€544.31'),\n",
       " (36, '11/10/20', 'James Murphy', 'Tipperary', '€15.30', '€00.00'),\n",
       " (37, '11/10/20', 'Tom Ryan', 'Cork', '€75.30', '€24.31'),\n",
       " (38, '11/10/20', 'Sue Jones', 'Limerick', '€199.31', '€704.32'),\n",
       " (39, '11/10/20', 'Noreen Brett', 'Dublin', '€105.30', '€00.00'),\n",
       " (40, '12/10/20', 'Mary Burke', 'Tipperary', '€159.30', '€00.00'),\n",
       " (41, '12/10/20', 'Oliver Ryan', 'Donegal', '€00.00', '€254.31'),\n",
       " (42, '12/10/20', 'PJ Burke', 'Cork', '€4.30', '€54.00'),\n",
       " (43, '12/10/20', 'Patrick Corcoran', 'Cork', '€15.30', '€54.31'),\n",
       " (44, '12/10/20', 'June Roberts', 'Cork', '€145.30', '€254.31'),\n",
       " (45, '12/10/20', 'May Burke', 'Kerry', '€00.00', '€44.31'),\n",
       " (46, '12/10/20', 'Winter Ryan', 'Tipperary', '€15.39', '€34.31'),\n",
       " (47, '12/10/20', 'Una Jones', 'Kerry', '€00.00', '€54.31'),\n",
       " (48, '13/10/20', 'Albert Brett', 'Wexford', '€15.30', '€44.31'),\n",
       " (49, '13/10/20', 'Maggie Bourke', 'Cork', '€00.00', '€354.37'),\n",
       " (50, '13/10/20', 'Kerry Ryan', 'Tipperary', '€00.00', '€54.32'),\n",
       " (51, '13/10/20', 'Tom Roberts', 'Cork', '€75.30', '€54.31'),\n",
       " (52, '13/10/20', 'Sue Corcoran', 'Limerick', '€19.31', '€105.32'),\n",
       " (53, '13/10/20', 'Noreen Carey', 'Dublin', '€00.00', '€54.31'),\n",
       " (54, '13/10/20', 'Paul Burke', 'Tipperary', '€00.0', '€54.61'),\n",
       " (55, '01/10/20', 'Mary Ryan', 'Tipperary', '€15.30', '€54.31'),\n",
       " (56, '01/10/20', 'Tom Jones', 'Cork', '€75.30', '€54.31'),\n",
       " (57, '01/10/20', 'Sue Bloggs', 'Limerick', '€19.31', '€104.32'),\n",
       " (58, '02/10/20', 'Noreen Ryan', 'Dublin', '€105.30', '€54.31'),\n",
       " (59, '02/10/20', 'Carol Kerns', 'Tipperary', '€150.30', '€454.32'),\n",
       " (60, '02/10/20', 'Joe Maher', 'Meath', '€15.30', '€4.31'),\n",
       " (61, '02/10/20', 'Anna Corcoran', 'Mayo', '€415.30', '€954.61'),\n",
       " (62, '03/10/20', 'Michelle Ryan', 'Mayo', '€5.30', '€64.31'),\n",
       " (63, '04/10/20', 'Moira Browne', 'Tipperary', '€15.36', '€94.31'),\n",
       " (64, '04/10/20', 'Patrick Treacy', 'Cork', '€65.30', '€54.31'),\n",
       " (65, '04/10/20', 'Peggy Greene', 'Belfast', '€151.70', '€453.81'),\n",
       " (66, '05/10/20', 'Michael Browne', 'Kerry', '€115.40', '€546.38'),\n",
       " (67, '05/10/20', 'Mary Murphy', 'Mayo', '€100.30', '€54.31'),\n",
       " (68, '06/10/20', 'Catherine Givens', 'Mayo', '€00.00', '€54.31'),\n",
       " (69, '06/10/20', 'Tom Murphy', 'Tipperary', '€5.30', '€54.31'),\n",
       " (70, '06/10/20', 'John Brett', 'Cork', '€5.30', '€54.34'),\n",
       " (71, '07/10/20', 'Andy Treacy', 'Limerick', '€19.31', '€114.32'),\n",
       " (72, '07/10/20', 'Paudie Burke', 'Dublin', '€106.30', '€53.31'),\n",
       " (73, '07/10/20', 'Nonie Murphy', 'Tipperary', '€15.30', '€54.31'),\n",
       " (74, '08/10/20', 'Helen Gleeson', 'Waterford', '€16.30', '€64.31'),\n",
       " (75, '08/10/20', 'Sean Meagher', 'Mayo', '€00.00', '€542.11'),\n",
       " (76, '08/10/20', 'Mary Gleeson', 'Mayo', '€00.00', '€154.31'),\n",
       " (77, '09/10/20', 'Carol Brett', 'Cork', '€00.00', '€54.41'),\n",
       " (78, '09/10/20', 'Paul Hayes', 'Limerick', '€15.30', '€594.37'),\n",
       " (79, '10/10/20', 'Margaret Cornally', 'Meath', '€00.00', '€14.31'),\n",
       " (80, '10/10/20', 'Jim Ryan', 'Dublin', '€15.30', '€00.00'),\n",
       " (81, '10/10/20', 'Ann Jones', 'Waterford', '€115.30', '€549.21'),\n",
       " (82, '10/10/20', 'Michael Ryan', 'Waterford', '€00.00', '€544.31'),\n",
       " (83, '11/10/20', 'James Murphy', 'Tipperary', '€15.30', '€00.00'),\n",
       " (84, '11/10/20', 'Tom Ryan', 'Cork', '€75.30', '€24.31'),\n",
       " (85, '11/10/20', 'Sue Jones', 'Limerick', '€199.31', '€704.32'),\n",
       " (86, '11/10/20', 'Noreen Brett', 'Dublin', '€105.30', '€00.00'),\n",
       " (87, '12/10/20', 'Mary Burke', 'Tipperary', '€159.30', '€00.00'),\n",
       " (88, '12/10/20', 'Oliver Ryan', 'Donegal', '€00.00', '€254.31'),\n",
       " (89, '12/10/20', 'PJ Burke', 'Cork', '€4.30', '€54.00'),\n",
       " (90, '12/10/20', 'Patrick Corcoran', 'Cork', '€15.30', '€54.31'),\n",
       " (91, '12/10/20', 'June Roberts', 'Cork', '€145.30', '€254.31'),\n",
       " (92, '12/10/20', 'May Burke', 'Kerry', '€00.00', '€44.31'),\n",
       " (93, '12/10/20', 'Winter Ryan', 'Tipperary', '€15.39', '€34.31'),\n",
       " (94, '12/10/20', 'Una Jones', 'Kerry', '€00.00', '€54.31'),\n",
       " (95, '13/10/20', 'Albert Brett', 'Wexford', '€15.30', '€44.31'),\n",
       " (96, '13/10/20', 'Maggie Bourke', 'Cork', '€00.00', '€354.37'),\n",
       " (97, '13/10/20', 'Kerry Ryan', 'Tipperary', '€00.00', '€54.32'),\n",
       " (98, '13/10/20', 'Tom Roberts', 'Cork', '€75.30', '€54.31'),\n",
       " (99, '13/10/20', 'Sue Corcoran', 'Limerick', '€19.31', '€105.32'),\n",
       " (100, '13/10/20', 'Noreen Carey', 'Dublin', '€00.00', '€54.31'),\n",
       " (101, '13/10/20', 'Paul Burke', 'Tipperary', '€00.0', '€54.61'),\n",
       " (102, '14/10/20', 'Michael O Rourke', 'Limerick', '€00.00', '€24.38'),\n",
       " (103, '01/10/20', 'Mary Ryan', 'Tipperary', '€15.30', '€54.31'),\n",
       " (104, '01/10/20', 'Tom Jones', 'Cork', '€75.30', '€54.31'),\n",
       " (105, '01/10/20', 'Sue Bloggs', 'Limerick', '€19.31', '€104.32'),\n",
       " (106, '02/10/20', 'Noreen Ryan', 'Dublin', '€105.30', '€54.31'),\n",
       " (107, '02/10/20', 'Carol Kerns', 'Tipperary', '€150.30', '€454.32'),\n",
       " (108, '02/10/20', 'Joe Maher', 'Meath', '€15.30', '€4.31'),\n",
       " (109, '02/10/20', 'Anna Corcoran', 'Mayo', '€415.30', '€954.61'),\n",
       " (110, '03/10/20', 'Michelle Ryan', 'Mayo', '€5.30', '€64.31'),\n",
       " (111, '04/10/20', 'Moira Browne', 'Tipperary', '€15.36', '€94.31'),\n",
       " (112, '04/10/20', 'Patrick Treacy', 'Cork', '€65.30', '€54.31'),\n",
       " (113, '04/10/20', 'Peggy Greene', 'Belfast', '€151.70', '€453.81'),\n",
       " (114, '05/10/20', 'Michael Browne', 'Kerry', '€115.40', '€546.38'),\n",
       " (115, '05/10/20', 'Mary Murphy', 'Mayo', '€100.30', '€54.31'),\n",
       " (116, '06/10/20', 'Catherine Givens', 'Mayo', '€00.00', '€54.31'),\n",
       " (117, '06/10/20', 'Tom Murphy', 'Tipperary', '€5.30', '€54.31'),\n",
       " (118, '06/10/20', 'John Brett', 'Cork', '€5.30', '€54.34'),\n",
       " (119, '07/10/20', 'Andy Treacy', 'Limerick', '€19.31', '€114.32'),\n",
       " (120, '07/10/20', 'Paudie Burke', 'Dublin', '€106.30', '€53.31'),\n",
       " (121, '07/10/20', 'Nonie Murphy', 'Tipperary', '€15.30', '€54.31'),\n",
       " (122, '08/10/20', 'Helen Gleeson', 'Waterford', '€16.30', '€64.31'),\n",
       " (123, '08/10/20', 'Sean Meagher', 'Mayo', '€00.00', '€542.11'),\n",
       " (124, '08/10/20', 'Mary Gleeson', 'Mayo', '€00.00', '€154.31'),\n",
       " (125, '09/10/20', 'Carol Brett', 'Cork', '€00.00', '€54.41'),\n",
       " (126, '09/10/20', 'Paul Hayes', 'Limerick', '€15.30', '€594.37'),\n",
       " (127, '10/10/20', 'Margaret Cornally', 'Meath', '€00.00', '€14.31'),\n",
       " (128, '10/10/20', 'Jim Ryan', 'Dublin', '€15.30', '€00.00'),\n",
       " (129, '10/10/20', 'Ann Jones', 'Waterford', '€115.30', '€549.21'),\n",
       " (130, '10/10/20', 'Michael Ryan', 'Waterford', '€00.00', '€544.31'),\n",
       " (131, '11/10/20', 'James Murphy', 'Tipperary', '€15.30', '€00.00'),\n",
       " (132, '11/10/20', 'Tom Ryan', 'Cork', '€75.30', '€24.31'),\n",
       " (133, '11/10/20', 'Sue Jones', 'Limerick', '€199.31', '€704.32'),\n",
       " (134, '11/10/20', 'Noreen Brett', 'Dublin', '€105.30', '€00.00'),\n",
       " (135, '12/10/20', 'Mary Burke', 'Tipperary', '€159.30', '€00.00'),\n",
       " (136, '12/10/20', 'Oliver Ryan', 'Donegal', '€00.00', '€254.31'),\n",
       " (137, '12/10/20', 'PJ Burke', 'Cork', '€4.30', '€54.00'),\n",
       " (138, '12/10/20', 'Patrick Corcoran', 'Cork', '€15.30', '€54.31'),\n",
       " (139, '12/10/20', 'June Roberts', 'Cork', '€145.30', '€254.31'),\n",
       " (140, '12/10/20', 'May Burke', 'Kerry', '€00.00', '€44.31'),\n",
       " (141, '12/10/20', 'Winter Ryan', 'Tipperary', '€15.39', '€34.31'),\n",
       " (142, '12/10/20', 'Una Jones', 'Kerry', '€00.00', '€54.31'),\n",
       " (143, '13/10/20', 'Albert Brett', 'Wexford', '€15.30', '€44.31'),\n",
       " (144, '13/10/20', 'Maggie Bourke', 'Cork', '€00.00', '€354.37'),\n",
       " (145, '13/10/20', 'Kerry Ryan', 'Tipperary', '€00.00', '€54.32'),\n",
       " (146, '13/10/20', 'Tom Roberts', 'Cork', '€75.30', '€54.31'),\n",
       " (147, '13/10/20', 'Sue Corcoran', 'Limerick', '€19.31', '€105.32'),\n",
       " (148, '13/10/20', 'Noreen Carey', 'Dublin', '€00.00', '€54.31'),\n",
       " (149, '13/10/20', 'Paul Burke', 'Tipperary', '€00.0', '€54.61'),\n",
       " (150, '14/10/20', 'Michael O Rourke', 'Limerick', '€00.00', '€24.38'),\n",
       " (151, '14/10/20', 'David O Flaherty', 'Limerick', '€00.00', '€14.99'),\n",
       " (152, '14/10/20', 'Matthew Fitzsimmons', 'Tipperary', '€5.30', '€54.99'),\n",
       " (153, '14/10/20', 'Jim Jones', 'Tipperary', '€5.39', '€105.99'),\n",
       " (154, '15/10/20', 'James O Connor', 'Limerick', '€5.30', '€53.99'),\n",
       " (155, '15/10/20', 'Michael Burke', 'Limerick', '€00.00', '€54.99'),\n",
       " (156, '15/10/20', 'Olivia Ryan', 'Donegal', '€00.00', '€154.00'),\n",
       " (157, '15/10/20', 'Nuala Brett', 'Wexford', '€00.00', '€58.00'),\n",
       " (158, '16/10/20', 'Nicola O Connor', 'Mayo', '€00.00', '€154.31'),\n",
       " (159, '16/10/20', 'Claire Greene', 'Tipperary', '€00.00', '€64.01'),\n",
       " (160, '16/10/20', 'Pauline Murphy', 'Cork', '€5.30', '€54.00'),\n",
       " (161, '17/10/20', 'Sue Fitzgerald', 'Limerick', '€19.31', '€04.32'),\n",
       " (162, '17/10/20', 'Noreen O Rourke', 'Dublin', '€105.30', '€64.31'),\n",
       " (163, '18/10/20', 'Sophie Murphy', 'Tipperary', '€115.30', '€54.31'),\n",
       " (164, '18/10/20', 'Chloe Jones', 'Wexford', '€00.00', '€543.31'),\n",
       " (165, '18/10/20', 'Emma O Connor', 'Wexford', '€00.00', '€54.31'),\n",
       " (166, '18/10/20', 'Moira Ryan', 'Mayo', '€15.30', '€154.31'),\n",
       " (167, '19/10/20', 'David Dunne', 'Galway', '€00.00', '€54.31'),\n",
       " (168, '19/10/20', 'Nuala Fitzpatrick', 'Galway', '€00.00', '€154.00'),\n",
       " (169, '19/10/20', 'Deirdre Ryan', 'Tipperary', '€00.00', '€54.31'),\n",
       " (170, '20/10/20', 'Mary Fitzpatrick', 'Cork', '€00.00', '€524.00'),\n",
       " (171, '01/10/20', 'Mary Ryan', 'Tipperary', '€15.30', '€54.31'),\n",
       " (172, '01/10/20', 'Tom Jones', 'Cork', '€75.30', '€54.31'),\n",
       " (173, '01/10/20', 'Sue Bloggs', 'Limerick', '€19.31', '€104.32'),\n",
       " (174, '02/10/20', 'Noreen Ryan', 'Dublin', '€105.30', '€54.31'),\n",
       " (175, '02/10/20', 'Carol Kerns', 'Tipperary', '€150.30', '€454.32'),\n",
       " (176, '02/10/20', 'Joe Maher', 'Meath', '€15.30', '€4.31'),\n",
       " (177, '02/10/20', 'Anna Corcoran', 'Mayo', '€415.30', '€954.61'),\n",
       " (178, '03/10/20', 'Michelle Ryan', 'Mayo', '€5.30', '€64.31'),\n",
       " (179, '04/10/20', 'Moira Browne', 'Tipperary', '€15.36', '€94.31'),\n",
       " (180, '04/10/20', 'Patrick Treacy', 'Cork', '€65.30', '€54.31'),\n",
       " (181, '04/10/20', 'Peggy Greene', 'Belfast', '€151.70', '€453.81'),\n",
       " (182, '05/10/20', 'Michael Browne', 'Kerry', '€115.40', '€546.38'),\n",
       " (183, '05/10/20', 'Mary Murphy', 'Mayo', '€100.30', '€54.31'),\n",
       " (184, '06/10/20', 'Catherine Givens', 'Mayo', '€00.00', '€54.31'),\n",
       " (185, '06/10/20', 'Tom Murphy', 'Tipperary', '€5.30', '€54.31'),\n",
       " (186, '06/10/20', 'John Brett', 'Cork', '€5.30', '€54.34'),\n",
       " (187, '07/10/20', 'Andy Treacy', 'Limerick', '€19.31', '€114.32'),\n",
       " (188, '07/10/20', 'Paudie Burke', 'Dublin', '€106.30', '€53.31'),\n",
       " (189, '07/10/20', 'Nonie Murphy', 'Tipperary', '€15.30', '€54.31'),\n",
       " (190, '08/10/20', 'Helen Gleeson', 'Waterford', '€16.30', '€64.31'),\n",
       " (191, '08/10/20', 'Sean Meagher', 'Mayo', '€00.00', '€542.11'),\n",
       " (192, '08/10/20', 'Mary Gleeson', 'Mayo', '€00.00', '€154.31'),\n",
       " (193, '09/10/20', 'Carol Brett', 'Cork', '€00.00', '€54.41'),\n",
       " (194, '09/10/20', 'Paul Hayes', 'Limerick', '€15.30', '€594.37'),\n",
       " (195, '10/10/20', 'Margaret Cornally', 'Meath', '€00.00', '€14.31'),\n",
       " (196, '10/10/20', 'Jim Ryan', 'Dublin', '€15.30', '€00.00'),\n",
       " (197, '10/10/20', 'Ann Jones', 'Waterford', '€115.30', '€549.21'),\n",
       " (198, '10/10/20', 'Michael Ryan', 'Waterford', '€00.00', '€544.31'),\n",
       " (199, '11/10/20', 'James Murphy', 'Tipperary', '€15.30', '€00.00'),\n",
       " (200, '11/10/20', 'Tom Ryan', 'Cork', '€75.30', '€24.31'),\n",
       " (201, '11/10/20', 'Sue Jones', 'Limerick', '€199.31', '€704.32'),\n",
       " (202, '11/10/20', 'Noreen Brett', 'Dublin', '€105.30', '€00.00'),\n",
       " (203, '12/10/20', 'Mary Burke', 'Tipperary', '€159.30', '€00.00'),\n",
       " (204, '12/10/20', 'Oliver Ryan', 'Donegal', '€00.00', '€254.31'),\n",
       " (205, '12/10/20', 'PJ Burke', 'Cork', '€4.30', '€54.00'),\n",
       " (206, '12/10/20', 'Patrick Corcoran', 'Cork', '€15.30', '€54.31'),\n",
       " (207, '12/10/20', 'June Roberts', 'Cork', '€145.30', '€254.31'),\n",
       " (208, '12/10/20', 'May Burke', 'Kerry', '€00.00', '€44.31'),\n",
       " (209, '12/10/20', 'Winter Ryan', 'Tipperary', '€15.39', '€34.31'),\n",
       " (210, '12/10/20', 'Una Jones', 'Kerry', '€00.00', '€54.31'),\n",
       " (211, '13/10/20', 'Albert Brett', 'Wexford', '€15.30', '€44.31'),\n",
       " (212, '13/10/20', 'Maggie Bourke', 'Cork', '€00.00', '€354.37'),\n",
       " (213, '13/10/20', 'Kerry Ryan', 'Tipperary', '€00.00', '€54.32'),\n",
       " (214, '13/10/20', 'Tom Roberts', 'Cork', '€75.30', '€54.31'),\n",
       " (215, '13/10/20', 'Sue Corcoran', 'Limerick', '€19.31', '€105.32'),\n",
       " (216, '13/10/20', 'Noreen Carey', 'Dublin', '€00.00', '€54.31'),\n",
       " (217, '13/10/20', 'Paul Burke', 'Tipperary', '€00.0', '€54.61'),\n",
       " (218, '14/10/20', 'Michael O Rourke', 'Limerick', '€00.00', '€24.38'),\n",
       " (219, '14/10/20', 'David O Flaherty', 'Limerick', '€00.00', '€14.99'),\n",
       " (220, '14/10/20', 'Matthew Fitzsimmons', 'Tipperary', '€5.30', '€54.99'),\n",
       " (221, '14/10/20', 'Jim Jones', 'Tipperary', '€5.39', '€105.99'),\n",
       " (222, '15/10/20', 'James O Connor', 'Limerick', '€5.30', '€53.99'),\n",
       " (223, '15/10/20', 'Michael Burke', 'Limerick', '€00.00', '€54.99'),\n",
       " (224, '15/10/20', 'Olivia Ryan', 'Donegal', '€00.00', '€154.00'),\n",
       " (225, '15/10/20', 'Nuala Brett', 'Wexford', '€00.00', '€58.00'),\n",
       " (226, '16/10/20', 'Nicola O Connor', 'Mayo', '€00.00', '€154.31'),\n",
       " (227, '16/10/20', 'Claire Greene', 'Tipperary', '€00.00', '€64.01'),\n",
       " (228, '16/10/20', 'Pauline Murphy', 'Cork', '€5.30', '€54.00'),\n",
       " (229, '17/10/20', 'Sue Fitzgerald', 'Limerick', '€19.31', '€04.32'),\n",
       " (230, '17/10/20', 'Noreen O Rourke', 'Dublin', '€105.30', '€64.31'),\n",
       " (231, '18/10/20', 'Sophie Murphy', 'Tipperary', '€115.30', '€54.31'),\n",
       " (232, '18/10/20', 'Chloe Jones', 'Wexford', '€00.00', '€543.31'),\n",
       " (233, '18/10/20', 'Emma O Connor', 'Wexford', '€00.00', '€54.31'),\n",
       " (234, '18/10/20', 'Moira Ryan', 'Mayo', '€15.30', '€154.31'),\n",
       " (235, '19/10/20', 'David Dunne', 'Galway', '€00.00', '€54.31'),\n",
       " (236, '19/10/20', 'Nuala Fitzpatrick', 'Galway', '€00.00', '€154.00'),\n",
       " (237, '19/10/20', 'Deirdre Ryan', 'Tipperary', '€00.00', '€54.31'),\n",
       " (238, '20/10/20', 'Mary Fitzpatrick', 'Cork', '€00.00', '€524.00'),\n",
       " (239, '20/10/20', 'Caroline O Meara', 'Cork', '€15.00', '€00.00'),\n",
       " (240, '21/10/20', 'Jack Fitzsimmons', 'Donegal', '€14.30', '€00.00'),\n",
       " (241, '21/10/20', 'Pat Carey', 'Donegal', '€00.00', '€44.00'),\n",
       " (242, '21/10/20', 'Tom O Brien', 'Cork', '€75.30', '€00.00'),\n",
       " (243, '22/10/20', 'Sue O Keeffe', 'Limerick', '€19.00', '€105.32'),\n",
       " (244, '22/10/20', 'Noreen Smyth', 'Dublin', '€105.31', '€59.00'),\n",
       " (245, '22/10/20', 'Petula Smyth', 'Tipperary', '€15.30', '€00.00'),\n",
       " (246, '22/10/20', 'Nancy Duff', 'Donegal', '€00.00', '€154.99'),\n",
       " (247, '22/10/20', 'Fay O Brien', 'Tipperary', '€00.00', '€54.00'),\n",
       " (248, '01/10/20', 'Mary Ryan', 'Tipperary', '€15.30', '€54.31'),\n",
       " (249, '01/10/20', 'Tom Jones', 'Cork', '€75.30', '€54.31'),\n",
       " (250, '01/10/20', 'Sue Bloggs', 'Limerick', '€19.31', '€104.32'),\n",
       " (251, '02/10/20', 'Noreen Ryan', 'Dublin', '€105.30', '€54.31'),\n",
       " (252, '02/10/20', 'Carol Kerns', 'Tipperary', '€150.30', '€454.32'),\n",
       " (253, '02/10/20', 'Joe Maher', 'Meath', '€15.30', '€4.31'),\n",
       " (254, '02/10/20', 'Anna Corcoran', 'Mayo', '€415.30', '€954.61'),\n",
       " (255, '03/10/20', 'Michelle Ryan', 'Mayo', '€5.30', '€64.31'),\n",
       " (256, '04/10/20', 'Moira Browne', 'Tipperary', '€15.36', '€94.31'),\n",
       " (257, '04/10/20', 'Patrick Treacy', 'Cork', '€65.30', '€54.31'),\n",
       " (258, '04/10/20', 'Peggy Greene', 'Belfast', '€151.70', '€453.81'),\n",
       " (259, '05/10/20', 'Michael Browne', 'Kerry', '€115.40', '€546.38'),\n",
       " (260, '05/10/20', 'Mary Murphy', 'Mayo', '€100.30', '€54.31'),\n",
       " (261, '06/10/20', 'Catherine Givens', 'Mayo', '€00.00', '€54.31'),\n",
       " (262, '06/10/20', 'Tom Murphy', 'Tipperary', '€5.30', '€54.31'),\n",
       " (263, '06/10/20', 'John Brett', 'Cork', '€5.30', '€54.34'),\n",
       " (264, '07/10/20', 'Andy Treacy', 'Limerick', '€19.31', '€114.32'),\n",
       " (265, '07/10/20', 'Paudie Burke', 'Dublin', '€106.30', '€53.31'),\n",
       " (266, '07/10/20', 'Nonie Murphy', 'Tipperary', '€15.30', '€54.31'),\n",
       " (267, '08/10/20', 'Helen Gleeson', 'Waterford', '€16.30', '€64.31'),\n",
       " (268, '08/10/20', 'Sean Meagher', 'Mayo', '€00.00', '€542.11'),\n",
       " (269, '08/10/20', 'Mary Gleeson', 'Mayo', '€00.00', '€154.31'),\n",
       " (270, '09/10/20', 'Carol Brett', 'Cork', '€00.00', '€54.41'),\n",
       " (271, '09/10/20', 'Paul Hayes', 'Limerick', '€15.30', '€594.37'),\n",
       " (272, '10/10/20', 'Margaret Cornally', 'Meath', '€00.00', '€14.31'),\n",
       " (273, '10/10/20', 'Jim Ryan', 'Dublin', '€15.30', '€00.00'),\n",
       " (274, '10/10/20', 'Ann Jones', 'Waterford', '€115.30', '€549.21'),\n",
       " (275, '10/10/20', 'Michael Ryan', 'Waterford', '€00.00', '€544.31'),\n",
       " (276, '11/10/20', 'James Murphy', 'Tipperary', '€15.30', '€00.00'),\n",
       " (277, '11/10/20', 'Tom Ryan', 'Cork', '€75.30', '€24.31'),\n",
       " (278, '11/10/20', 'Sue Jones', 'Limerick', '€199.31', '€704.32'),\n",
       " (279, '11/10/20', 'Noreen Brett', 'Dublin', '€105.30', '€00.00'),\n",
       " (280, '12/10/20', 'Mary Burke', 'Tipperary', '€159.30', '€00.00'),\n",
       " (281, '12/10/20', 'Oliver Ryan', 'Donegal', '€00.00', '€254.31'),\n",
       " (282, '12/10/20', 'PJ Burke', 'Cork', '€4.30', '€54.00'),\n",
       " (283, '12/10/20', 'Patrick Corcoran', 'Cork', '€15.30', '€54.31'),\n",
       " (284, '12/10/20', 'June Roberts', 'Cork', '€145.30', '€254.31'),\n",
       " (285, '12/10/20', 'May Burke', 'Kerry', '€00.00', '€44.31'),\n",
       " (286, '12/10/20', 'Winter Ryan', 'Tipperary', '€15.39', '€34.31'),\n",
       " (287, '12/10/20', 'Una Jones', 'Kerry', '€00.00', '€54.31'),\n",
       " (288, '13/10/20', 'Albert Brett', 'Wexford', '€15.30', '€44.31'),\n",
       " (289, '13/10/20', 'Maggie Bourke', 'Cork', '€00.00', '€354.37'),\n",
       " (290, '13/10/20', 'Kerry Ryan', 'Tipperary', '€00.00', '€54.32'),\n",
       " (291, '13/10/20', 'Tom Roberts', 'Cork', '€75.30', '€54.31'),\n",
       " (292, '13/10/20', 'Sue Corcoran', 'Limerick', '€19.31', '€105.32'),\n",
       " (293, '13/10/20', 'Noreen Carey', 'Dublin', '€00.00', '€54.31'),\n",
       " (294, '13/10/20', 'Paul Burke', 'Tipperary', '€00.0', '€54.61'),\n",
       " (295, '14/10/20', 'Michael O Rourke', 'Limerick', '€00.00', '€24.38'),\n",
       " (296, '14/10/20', 'David O Flaherty', 'Limerick', '€00.00', '€14.99'),\n",
       " (297, '14/10/20', 'Matthew Fitzsimmons', 'Tipperary', '€5.30', '€54.99'),\n",
       " (298, '14/10/20', 'Jim Jones', 'Tipperary', '€5.39', '€105.99'),\n",
       " (299, '15/10/20', 'James O Connor', 'Limerick', '€5.30', '€53.99'),\n",
       " (300, '15/10/20', 'Michael Burke', 'Limerick', '€00.00', '€54.99'),\n",
       " (301, '15/10/20', 'Olivia Ryan', 'Donegal', '€00.00', '€154.00'),\n",
       " (302, '15/10/20', 'Nuala Brett', 'Wexford', '€00.00', '€58.00'),\n",
       " (303, '16/10/20', 'Nicola O Connor', 'Mayo', '€00.00', '€154.31'),\n",
       " (304, '16/10/20', 'Claire Greene', 'Tipperary', '€00.00', '€64.01'),\n",
       " (305, '16/10/20', 'Pauline Murphy', 'Cork', '€5.30', '€54.00'),\n",
       " (306, '17/10/20', 'Sue Fitzgerald', 'Limerick', '€19.31', '€04.32'),\n",
       " (307, '17/10/20', 'Noreen O Rourke', 'Dublin', '€105.30', '€64.31'),\n",
       " (308, '18/10/20', 'Sophie Murphy', 'Tipperary', '€115.30', '€54.31'),\n",
       " (309, '18/10/20', 'Chloe Jones', 'Wexford', '€00.00', '€543.31'),\n",
       " (310, '18/10/20', 'Emma O Connor', 'Wexford', '€00.00', '€54.31'),\n",
       " (311, '18/10/20', 'Moira Ryan', 'Mayo', '€15.30', '€154.31'),\n",
       " (312, '19/10/20', 'David Dunne', 'Galway', '€00.00', '€54.31'),\n",
       " (313, '19/10/20', 'Nuala Fitzpatrick', 'Galway', '€00.00', '€154.00'),\n",
       " (314, '19/10/20', 'Deirdre Ryan', 'Tipperary', '€00.00', '€54.31'),\n",
       " (315, '20/10/20', 'Mary Fitzpatrick', 'Cork', '€00.00', '€524.00'),\n",
       " (316, '20/10/20', 'Caroline O Meara', 'Cork', '€15.00', '€00.00'),\n",
       " (317, '21/10/20', 'Jack Fitzsimmons', 'Donegal', '€14.30', '€00.00'),\n",
       " (318, '21/10/20', 'Pat Carey', 'Donegal', '€00.00', '€44.00'),\n",
       " (319, '21/10/20', 'Tom O Brien', 'Cork', '€75.30', '€00.00'),\n",
       " (320, '22/10/20', 'Sue O Keeffe', 'Limerick', '€19.00', '€105.32'),\n",
       " (321, '22/10/20', 'Noreen Smyth', 'Dublin', '€105.31', '€59.00'),\n",
       " (322, '22/10/20', 'Petula Smyth', 'Tipperary', '€15.30', '€00.00'),\n",
       " (323, '22/10/20', 'Nancy Duff', 'Donegal', '€00.00', '€154.99'),\n",
       " (324, '22/10/20', 'Fay O Brien', 'Tipperary', '€00.00', '€54.00'),\n",
       " (325, '23/10/20', 'Conor O Brien', 'Tipperary', '€5.30', '€59.00'),\n",
       " (326, '23/10/20', 'Bryan Ryan', 'Cork', '€00.00', '€54.00'),\n",
       " (327, '24/10/20', 'Fergal Kerns', 'Cork', '€00.00', '€254.99'),\n",
       " (328, '25/10/20', 'Dermot O Brien', 'Belfast', '€00.00', '€54.65'),\n",
       " (329, '26/10/20', 'Maisy Summer', 'Waterford', '€00.00', '€54.97'),\n",
       " (330, '27/10/20', 'Emma O Dee', 'Cavan', '€00.00', '€44.33'),\n",
       " (331, '28/10/20', 'Deirdre Murphy', 'Limerick', '€00.00', '€100.00'),\n",
       " (332, '28/10/20', 'Mary Smyth', 'Tipperary', '€15.30', '€54.31'),\n",
       " (333, '28/10/20', 'Nancy Jones', 'Cork', '€75.30', '€54.00'),\n",
       " (334, '29/10/20', 'Sue O Brien', 'Limerick', '€18.31', '€104.30'),\n",
       " (335, '29/10/20', 'Noreen Winter', 'Dublin', '€00.00', '€44.33'),\n",
       " (336, '29/10/20', 'Margaret O Brien', 'Dublin', '€115.00', '€00.00'),\n",
       " (337, '29/10/20', 'May Slattery', 'Meath', '€00.00', '€57.39'),\n",
       " (338, '30/10/20', 'Mary Slattery', 'Kerry', '€00.00', '€54.36'),\n",
       " (339, '30/10/20', 'Sam Ryan', 'Kerry', '€00.00', '€52.00'),\n",
       " (340, '30/10/20', 'John Ryan', 'Mayo', '€00.00', '€154.00'),\n",
       " (341, '30/10/20', 'Liam Ryan', 'Galway', '€19.30', '€154.31'),\n",
       " (342, '30/10/20', 'Brid Ryan', 'Galway', '€19.90', '€00.00'),\n",
       " (343, '31/10/20', 'Sophia Ryan', 'Derry', '€00.00', '€54.99'),\n",
       " (344, '31/10/20', 'Mary Fitzpatrick', 'Dublin', '€00.00', '€45.54'),\n",
       " (345, '31/10/20', 'Caroline Smyth', 'Tipperary', '€00.00', '€56.89'),\n",
       " (346, '31/10/20', 'Helena Jones', 'Tipperary', '€00.00', '€59.69'),\n",
       " (347, '31/10/20', 'Helen Jones', 'Cork', '€75.39', '€24.99'),\n",
       " (348, '01/10/20', 'Mary Ryan', 'Tipperary', '€15.30', '€54.31'),\n",
       " (349, '01/10/20', 'Tom Jones', 'Cork', '€75.30', '€54.31'),\n",
       " (350, '01/10/20', 'Sue Bloggs', 'Limerick', '€19.31', '€104.32'),\n",
       " (351, '02/10/20', 'Noreen Ryan', 'Dublin', '€105.30', '€54.31'),\n",
       " (352, '02/10/20', 'Carol Kerns', 'Tipperary', '€150.30', '€454.32'),\n",
       " (353, '02/10/20', 'Joe Maher', 'Meath', '€15.30', '€4.31'),\n",
       " (354, '02/10/20', 'Anna Corcoran', 'Mayo', '€415.30', '€954.61'),\n",
       " (355, '03/10/20', 'Michelle Ryan', 'Mayo', '€5.30', '€64.31'),\n",
       " (356, '04/10/20', 'Moira Browne', 'Tipperary', '€15.36', '€94.31'),\n",
       " (357, '04/10/20', 'Patrick Treacy', 'Cork', '€65.30', '€54.31'),\n",
       " (358, '04/10/20', 'Peggy Greene', 'Belfast', '€151.70', '€453.81'),\n",
       " (359, '05/10/20', 'Michael Browne', 'Kerry', '€115.40', '€546.38'),\n",
       " (360, '05/10/20', 'Mary Murphy', 'Mayo', '€100.30', '€54.31'),\n",
       " (361, '06/10/20', 'Catherine Givens', 'Mayo', '€00.00', '€54.31'),\n",
       " (362, '06/10/20', 'Tom Murphy', 'Tipperary', '€5.30', '€54.31'),\n",
       " (363, '06/10/20', 'John Brett', 'Cork', '€5.30', '€54.34'),\n",
       " (364, '07/10/20', 'Andy Treacy', 'Limerick', '€19.31', '€114.32'),\n",
       " (365, '07/10/20', 'Paudie Burke', 'Dublin', '€106.30', '€53.31'),\n",
       " (366, '07/10/20', 'Nonie Murphy', 'Tipperary', '€15.30', '€54.31'),\n",
       " (367, '08/10/20', 'Helen Gleeson', 'Waterford', '€16.30', '€64.31'),\n",
       " (368, '08/10/20', 'Sean Meagher', 'Mayo', '€00.00', '€542.11'),\n",
       " (369, '08/10/20', 'Mary Gleeson', 'Mayo', '€00.00', '€154.31'),\n",
       " (370, '09/10/20', 'Carol Brett', 'Cork', '€00.00', '€54.41'),\n",
       " (371, '09/10/20', 'Paul Hayes', 'Limerick', '€15.30', '€594.37'),\n",
       " (372, '10/10/20', 'Margaret Cornally', 'Meath', '€00.00', '€14.31'),\n",
       " (373, '10/10/20', 'Jim Ryan', 'Dublin', '€15.30', '€00.00'),\n",
       " (374, '10/10/20', 'Ann Jones', 'Waterford', '€115.30', '€549.21'),\n",
       " (375, '10/10/20', 'Michael Ryan', 'Waterford', '€00.00', '€544.31'),\n",
       " (376, '11/10/20', 'James Murphy', 'Tipperary', '€15.30', '€00.00'),\n",
       " (377, '11/10/20', 'Tom Ryan', 'Cork', '€75.30', '€24.31'),\n",
       " (378, '11/10/20', 'Sue Jones', 'Limerick', '€199.31', '€704.32'),\n",
       " (379, '11/10/20', 'Noreen Brett', 'Dublin', '€105.30', '€00.00'),\n",
       " (380, '12/10/20', 'Mary Burke', 'Tipperary', '€159.30', '€00.00'),\n",
       " (381, '12/10/20', 'Oliver Ryan', 'Donegal', '€00.00', '€254.31'),\n",
       " (382, '12/10/20', 'PJ Burke', 'Cork', '€4.30', '€54.00'),\n",
       " (383, '12/10/20', 'Patrick Corcoran', 'Cork', '€15.30', '€54.31'),\n",
       " (384, '12/10/20', 'June Roberts', 'Cork', '€145.30', '€254.31'),\n",
       " (385, '12/10/20', 'May Burke', 'Kerry', '€00.00', '€44.31'),\n",
       " (386, '12/10/20', 'Winter Ryan', 'Tipperary', '€15.39', '€34.31'),\n",
       " (387, '12/10/20', 'Una Jones', 'Kerry', '€00.00', '€54.31'),\n",
       " (388, '13/10/20', 'Albert Brett', 'Wexford', '€15.30', '€44.31'),\n",
       " (389, '13/10/20', 'Maggie Bourke', 'Cork', '€00.00', '€354.37'),\n",
       " (390, '13/10/20', 'Kerry Ryan', 'Tipperary', '€00.00', '€54.32'),\n",
       " (391, '13/10/20', 'Tom Roberts', 'Cork', '€75.30', '€54.31'),\n",
       " (392, '13/10/20', 'Sue Corcoran', 'Limerick', '€19.31', '€105.32'),\n",
       " (393, '13/10/20', 'Noreen Carey', 'Dublin', '€00.00', '€54.31'),\n",
       " (394, '13/10/20', 'Paul Burke', 'Tipperary', '€00.0', '€54.61'),\n",
       " (395, '14/10/20', 'Michael O Rourke', 'Limerick', '€00.00', '€24.38'),\n",
       " (396, '14/10/20', 'David O Flaherty', 'Limerick', '€00.00', '€14.99'),\n",
       " (397, '14/10/20', 'Matthew Fitzsimmons', 'Tipperary', '€5.30', '€54.99'),\n",
       " (398, '14/10/20', 'Jim Jones', 'Tipperary', '€5.39', '€105.99'),\n",
       " (399, '15/10/20', 'James O Connor', 'Limerick', '€5.30', '€53.99'),\n",
       " (400, '15/10/20', 'Michael Burke', 'Limerick', '€00.00', '€54.99'),\n",
       " (401, '15/10/20', 'Olivia Ryan', 'Donegal', '€00.00', '€154.00'),\n",
       " (402, '15/10/20', 'Nuala Brett', 'Wexford', '€00.00', '€58.00'),\n",
       " (403, '16/10/20', 'Nicola O Connor', 'Mayo', '€00.00', '€154.31'),\n",
       " (404, '16/10/20', 'Claire Greene', 'Tipperary', '€00.00', '€64.01'),\n",
       " (405, '16/10/20', 'Pauline Murphy', 'Cork', '€5.30', '€54.00'),\n",
       " (406, '17/10/20', 'Sue Fitzgerald', 'Limerick', '€19.31', '€04.32'),\n",
       " (407, '17/10/20', 'Noreen O Rourke', 'Dublin', '€105.30', '€64.31'),\n",
       " (408, '18/10/20', 'Sophie Murphy', 'Tipperary', '€115.30', '€54.31'),\n",
       " (409, '18/10/20', 'Chloe Jones', 'Wexford', '€00.00', '€543.31'),\n",
       " (410, '18/10/20', 'Emma O Connor', 'Wexford', '€00.00', '€54.31'),\n",
       " (411, '18/10/20', 'Moira Ryan', 'Mayo', '€15.30', '€154.31'),\n",
       " (412, '19/10/20', 'David Dunne', 'Galway', '€00.00', '€54.31'),\n",
       " (413, '19/10/20', 'Nuala Fitzpatrick', 'Galway', '€00.00', '€154.00'),\n",
       " (414, '19/10/20', 'Deirdre Ryan', 'Tipperary', '€00.00', '€54.31'),\n",
       " (415, '20/10/20', 'Mary Fitzpatrick', 'Cork', '€00.00', '€524.00'),\n",
       " (416, '20/10/20', 'Caroline O Meara', 'Cork', '€15.00', '€00.00'),\n",
       " (417, '21/10/20', 'Jack Fitzsimmons', 'Donegal', '€14.30', '€00.00'),\n",
       " (418, '21/10/20', 'Pat Carey', 'Donegal', '€00.00', '€44.00'),\n",
       " (419, '21/10/20', 'Tom O Brien', 'Cork', '€75.30', '€00.00'),\n",
       " (420, '22/10/20', 'Sue O Keeffe', 'Limerick', '€19.00', '€105.32'),\n",
       " (421, '22/10/20', 'Noreen Smyth', 'Dublin', '€105.31', '€59.00'),\n",
       " (422, '22/10/20', 'Petula Smyth', 'Tipperary', '€15.30', '€00.00'),\n",
       " (423, '22/10/20', 'Nancy Duff', 'Donegal', '€00.00', '€154.99'),\n",
       " (424, '22/10/20', 'Fay O Brien', 'Tipperary', '€00.00', '€54.00'),\n",
       " (425, '23/10/20', 'Conor O Brien', 'Tipperary', '€5.30', '€59.00'),\n",
       " (426, '23/10/20', 'Bryan Ryan', 'Cork', '€00.00', '€54.00'),\n",
       " (427, '24/10/20', 'Fergal Kerns', 'Cork', '€00.00', '€254.99'),\n",
       " (428, '25/10/20', 'Dermot O Brien', 'Belfast', '€00.00', '€54.65'),\n",
       " (429, '26/10/20', 'Maisy Summer', 'Waterford', '€00.00', '€54.97'),\n",
       " (430, '27/10/20', 'Emma O Dee', 'Cavan', '€00.00', '€44.33'),\n",
       " (431, '28/10/20', 'Deirdre Murphy', 'Limerick', '€00.00', '€100.00'),\n",
       " (432, '28/10/20', 'Mary Smyth', 'Tipperary', '€15.30', '€54.31'),\n",
       " (433, '28/10/20', 'Nancy Jones', 'Cork', '€75.30', '€54.00'),\n",
       " (434, '29/10/20', 'Sue O Brien', 'Limerick', '€18.31', '€104.30'),\n",
       " (435, '29/10/20', 'Noreen Winter', 'Dublin', '€00.00', '€44.33'),\n",
       " (436, '29/10/20', 'Margaret O Brien', 'Dublin', '€115.00', '€00.00'),\n",
       " (437, '29/10/20', 'May Slattery', 'Meath', '€00.00', '€57.39'),\n",
       " (438, '30/10/20', 'Mary Slattery', 'Kerry', '€00.00', '€54.36'),\n",
       " (439, '30/10/20', 'Sam Ryan', 'Kerry', '€00.00', '€52.00'),\n",
       " (440, '30/10/20', 'John Ryan', 'Mayo', '€00.00', '€154.00'),\n",
       " (441, '30/10/20', 'Liam Ryan', 'Galway', '€19.30', '€154.31'),\n",
       " (442, '30/10/20', 'Brid Ryan', 'Galway', '€19.90', '€00.00'),\n",
       " (443, '31/10/20', 'Sophia Ryan', 'Derry', '€00.00', '€54.99'),\n",
       " (444, '31/10/20', 'Mary Fitzpatrick', 'Dublin', '€00.00', '€45.54'),\n",
       " (445, '31/10/20', 'Caroline Smyth', 'Tipperary', '€00.00', '€56.89'),\n",
       " (446, '31/10/20', 'Helena Jones', 'Tipperary', '€00.00', '€59.69'),\n",
       " (447, '31/10/20', 'Helen Jones', 'Cork', '€75.39', '€24.99')]"
      ]
     },
     "execution_count": 45,
     "metadata": {},
     "output_type": "execute_result"
    }
   ],
   "source": [
    "# check information in data base\n",
    "# first 7 rows in twice\n",
    "c.execute(\"SELECT ROWID, date, name, address, instore, online FROM person\")\n",
    "c.fetchall()"
   ]
  },
  {
   "cell_type": "code",
   "execution_count": 25,
   "metadata": {},
   "outputs": [],
   "source": [
    "# deleted top 7 rows\n",
    "c.execute(\"DELETE FROM person WHERE ROWID=1\")\n",
    "c.execute(\"DELETE FROM person WHERE ROWID=2\")\n",
    "c.execute(\"DELETE FROM person WHERE ROWID=3\")\n",
    "c.execute(\"DELETE FROM person WHERE ROWID=4\")\n",
    "c.execute(\"DELETE FROM person WHERE ROWID=5\")\n",
    "c.execute(\"DELETE FROM person WHERE ROWID=6\")\n",
    "c.execute(\"DELETE FROM person WHERE ROWID=7\")\n",
    "conn.commit()"
   ]
  },
  {
   "cell_type": "code",
   "execution_count": 26,
   "metadata": {},
   "outputs": [
    {
     "data": {
      "text/plain": [
       "[(8, '01/10/20', 'Mary Ryan', 'Tipperary', '€15.30', '€54.31'),\n",
       " (9, '01/10/20', 'Tom Jones', 'Cork', '€75.30', '€54.31'),\n",
       " (10, '01/10/20', 'Sue Bloggs', 'Limerick', '€19.31', '€104.32'),\n",
       " (11, '02/10/20', 'Noreen Ryan', 'Dublin', '€105.30', '€54.31'),\n",
       " (12, '02/10/20', 'Carol Kerns', 'Tipperary', '€150.30', '€454.32'),\n",
       " (13, '02/10/20', 'Joe Maher', 'Meath', '€15.30', '€4.31'),\n",
       " (14, '02/10/20', 'Anna Corcoran', 'Mayo', '€415.30', '€954.61'),\n",
       " (15, '03/10/20', 'Michelle Ryan', 'Mayo', '€5.30', '€64.31'),\n",
       " (16, '04/10/20', 'Moira Browne', 'Tipperary', '€15.36', '€94.31'),\n",
       " (17, '04/10/20', 'Patrick Treacy', 'Cork', '€65.30', '€54.31'),\n",
       " (18, '04/10/20', 'Peggy Greene', 'Belfast', '€151.70', '€453.81'),\n",
       " (19, '05/10/20', 'Michael Browne', 'Kerry', '€115.40', '€546.38'),\n",
       " (20, '05/10/20', 'Mary Murphy', 'Mayo', '€100.30', '€54.31'),\n",
       " (21, '06/10/20', 'Catherine Givens', 'Mayo', '€00.00', '€54.31'),\n",
       " (22, '06/10/20', 'Tom Murphy', 'Tipperary', '€5.30', '€54.31'),\n",
       " (23, '06/10/20', 'John Brett', 'Cork', '€5.30', '€54.34'),\n",
       " (24, '07/10/20', 'Andy Treacy', 'Limerick', '€19.31', '€114.32'),\n",
       " (25, '07/10/20', 'Paudie Burke', 'Dublin', '€106.30', '€53.31'),\n",
       " (26, '07/10/20', 'Nonie Murphy', 'Tipperary', '€15.30', '€54.31'),\n",
       " (27, '08/10/20', 'Helen Gleeson', 'Waterford', '€16.30', '€64.31'),\n",
       " (28, '08/10/20', 'Sean Meagher', 'Mayo', '€00.00', '€542.11'),\n",
       " (29, '08/10/20', 'Mary Gleeson', 'Mayo', '€00.00', '€154.31'),\n",
       " (30, '09/10/20', 'Carol Brett', 'Cork', '€00.00', '€54.41'),\n",
       " (31, '09/10/20', 'Paul Hayes', 'Limerick', '€15.30', '€594.37'),\n",
       " (32, '10/10/20', 'Margaret Cornally', 'Meath', '€00.00', '€14.31'),\n",
       " (33, '10/10/20', 'Jim Ryan', 'Dublin', '€15.30', '€00.00'),\n",
       " (34, '10/10/20', 'Ann Jones', 'Waterford', '€115.30', '€549.21'),\n",
       " (35, '10/10/20', 'Michael Ryan', 'Waterford', '€00.00', '€544.31'),\n",
       " (36, '11/10/20', 'James Murphy', 'Tipperary', '€15.30', '€00.00'),\n",
       " (37, '11/10/20', 'Tom Ryan', 'Cork', '€75.30', '€24.31'),\n",
       " (38, '11/10/20', 'Sue Jones', 'Limerick', '€199.31', '€704.32'),\n",
       " (39, '11/10/20', 'Noreen Brett', 'Dublin', '€105.30', '€00.00'),\n",
       " (40, '12/10/20', 'Mary Burke', 'Tipperary', '€159.30', '€00.00'),\n",
       " (41, '12/10/20', 'Oliver Ryan', 'Donegal', '€00.00', '€254.31'),\n",
       " (42, '12/10/20', 'PJ Burke', 'Cork', '€4.30', '€54.00'),\n",
       " (43, '12/10/20', 'Patrick Corcoran', 'Cork', '€15.30', '€54.31'),\n",
       " (44, '12/10/20', 'June Roberts', 'Cork', '€145.30', '€254.31'),\n",
       " (45, '12/10/20', 'May Burke', 'Kerry', '€00.00', '€44.31'),\n",
       " (46, '12/10/20', 'Winter Ryan', 'Tipperary', '€15.39', '€34.31'),\n",
       " (47, '12/10/20', 'Una Jones', 'Kerry', '€00.00', '€54.31'),\n",
       " (48, '13/10/20', 'Albert Brett', 'Wexford', '€15.30', '€44.31'),\n",
       " (49, '13/10/20', 'Maggie Bourke', 'Cork', '€00.00', '€354.37'),\n",
       " (50, '13/10/20', 'Kerry Ryan', 'Tipperary', '€00.00', '€54.32'),\n",
       " (51, '13/10/20', 'Tom Roberts', 'Cork', '€75.30', '€54.31'),\n",
       " (52, '13/10/20', 'Sue Corcoran', 'Limerick', '€19.31', '€105.32'),\n",
       " (53, '13/10/20', 'Noreen Carey', 'Dublin', '€00.00', '€54.31'),\n",
       " (54, '13/10/20', 'Paul Burke', 'Tipperary', '€00.0', '€54.61'),\n",
       " (55, '01/10/20', 'Mary Ryan', 'Tipperary', '€15.30', '€54.31'),\n",
       " (56, '01/10/20', 'Tom Jones', 'Cork', '€75.30', '€54.31'),\n",
       " (57, '01/10/20', 'Sue Bloggs', 'Limerick', '€19.31', '€104.32'),\n",
       " (58, '02/10/20', 'Noreen Ryan', 'Dublin', '€105.30', '€54.31'),\n",
       " (59, '02/10/20', 'Carol Kerns', 'Tipperary', '€150.30', '€454.32'),\n",
       " (60, '02/10/20', 'Joe Maher', 'Meath', '€15.30', '€4.31'),\n",
       " (61, '02/10/20', 'Anna Corcoran', 'Mayo', '€415.30', '€954.61'),\n",
       " (62, '03/10/20', 'Michelle Ryan', 'Mayo', '€5.30', '€64.31'),\n",
       " (63, '04/10/20', 'Moira Browne', 'Tipperary', '€15.36', '€94.31'),\n",
       " (64, '04/10/20', 'Patrick Treacy', 'Cork', '€65.30', '€54.31'),\n",
       " (65, '04/10/20', 'Peggy Greene', 'Belfast', '€151.70', '€453.81'),\n",
       " (66, '05/10/20', 'Michael Browne', 'Kerry', '€115.40', '€546.38'),\n",
       " (67, '05/10/20', 'Mary Murphy', 'Mayo', '€100.30', '€54.31'),\n",
       " (68, '06/10/20', 'Catherine Givens', 'Mayo', '€00.00', '€54.31'),\n",
       " (69, '06/10/20', 'Tom Murphy', 'Tipperary', '€5.30', '€54.31'),\n",
       " (70, '06/10/20', 'John Brett', 'Cork', '€5.30', '€54.34'),\n",
       " (71, '07/10/20', 'Andy Treacy', 'Limerick', '€19.31', '€114.32'),\n",
       " (72, '07/10/20', 'Paudie Burke', 'Dublin', '€106.30', '€53.31'),\n",
       " (73, '07/10/20', 'Nonie Murphy', 'Tipperary', '€15.30', '€54.31'),\n",
       " (74, '08/10/20', 'Helen Gleeson', 'Waterford', '€16.30', '€64.31'),\n",
       " (75, '08/10/20', 'Sean Meagher', 'Mayo', '€00.00', '€542.11'),\n",
       " (76, '08/10/20', 'Mary Gleeson', 'Mayo', '€00.00', '€154.31'),\n",
       " (77, '09/10/20', 'Carol Brett', 'Cork', '€00.00', '€54.41'),\n",
       " (78, '09/10/20', 'Paul Hayes', 'Limerick', '€15.30', '€594.37'),\n",
       " (79, '10/10/20', 'Margaret Cornally', 'Meath', '€00.00', '€14.31'),\n",
       " (80, '10/10/20', 'Jim Ryan', 'Dublin', '€15.30', '€00.00'),\n",
       " (81, '10/10/20', 'Ann Jones', 'Waterford', '€115.30', '€549.21'),\n",
       " (82, '10/10/20', 'Michael Ryan', 'Waterford', '€00.00', '€544.31'),\n",
       " (83, '11/10/20', 'James Murphy', 'Tipperary', '€15.30', '€00.00'),\n",
       " (84, '11/10/20', 'Tom Ryan', 'Cork', '€75.30', '€24.31'),\n",
       " (85, '11/10/20', 'Sue Jones', 'Limerick', '€199.31', '€704.32'),\n",
       " (86, '11/10/20', 'Noreen Brett', 'Dublin', '€105.30', '€00.00'),\n",
       " (87, '12/10/20', 'Mary Burke', 'Tipperary', '€159.30', '€00.00'),\n",
       " (88, '12/10/20', 'Oliver Ryan', 'Donegal', '€00.00', '€254.31'),\n",
       " (89, '12/10/20', 'PJ Burke', 'Cork', '€4.30', '€54.00'),\n",
       " (90, '12/10/20', 'Patrick Corcoran', 'Cork', '€15.30', '€54.31'),\n",
       " (91, '12/10/20', 'June Roberts', 'Cork', '€145.30', '€254.31'),\n",
       " (92, '12/10/20', 'May Burke', 'Kerry', '€00.00', '€44.31'),\n",
       " (93, '12/10/20', 'Winter Ryan', 'Tipperary', '€15.39', '€34.31'),\n",
       " (94, '12/10/20', 'Una Jones', 'Kerry', '€00.00', '€54.31'),\n",
       " (95, '13/10/20', 'Albert Brett', 'Wexford', '€15.30', '€44.31'),\n",
       " (96, '13/10/20', 'Maggie Bourke', 'Cork', '€00.00', '€354.37'),\n",
       " (97, '13/10/20', 'Kerry Ryan', 'Tipperary', '€00.00', '€54.32'),\n",
       " (98, '13/10/20', 'Tom Roberts', 'Cork', '€75.30', '€54.31'),\n",
       " (99, '13/10/20', 'Sue Corcoran', 'Limerick', '€19.31', '€105.32'),\n",
       " (100, '13/10/20', 'Noreen Carey', 'Dublin', '€00.00', '€54.31'),\n",
       " (101, '13/10/20', 'Paul Burke', 'Tipperary', '€00.0', '€54.61'),\n",
       " (102, '14/10/20', 'Michael O Rourke', 'Limerick', '€00.00', '€24.38'),\n",
       " (103, '01/10/20', 'Mary Ryan', 'Tipperary', '€15.30', '€54.31'),\n",
       " (104, '01/10/20', 'Tom Jones', 'Cork', '€75.30', '€54.31'),\n",
       " (105, '01/10/20', 'Sue Bloggs', 'Limerick', '€19.31', '€104.32'),\n",
       " (106, '02/10/20', 'Noreen Ryan', 'Dublin', '€105.30', '€54.31'),\n",
       " (107, '02/10/20', 'Carol Kerns', 'Tipperary', '€150.30', '€454.32'),\n",
       " (108, '02/10/20', 'Joe Maher', 'Meath', '€15.30', '€4.31'),\n",
       " (109, '02/10/20', 'Anna Corcoran', 'Mayo', '€415.30', '€954.61'),\n",
       " (110, '03/10/20', 'Michelle Ryan', 'Mayo', '€5.30', '€64.31'),\n",
       " (111, '04/10/20', 'Moira Browne', 'Tipperary', '€15.36', '€94.31'),\n",
       " (112, '04/10/20', 'Patrick Treacy', 'Cork', '€65.30', '€54.31'),\n",
       " (113, '04/10/20', 'Peggy Greene', 'Belfast', '€151.70', '€453.81'),\n",
       " (114, '05/10/20', 'Michael Browne', 'Kerry', '€115.40', '€546.38'),\n",
       " (115, '05/10/20', 'Mary Murphy', 'Mayo', '€100.30', '€54.31'),\n",
       " (116, '06/10/20', 'Catherine Givens', 'Mayo', '€00.00', '€54.31'),\n",
       " (117, '06/10/20', 'Tom Murphy', 'Tipperary', '€5.30', '€54.31'),\n",
       " (118, '06/10/20', 'John Brett', 'Cork', '€5.30', '€54.34'),\n",
       " (119, '07/10/20', 'Andy Treacy', 'Limerick', '€19.31', '€114.32'),\n",
       " (120, '07/10/20', 'Paudie Burke', 'Dublin', '€106.30', '€53.31'),\n",
       " (121, '07/10/20', 'Nonie Murphy', 'Tipperary', '€15.30', '€54.31'),\n",
       " (122, '08/10/20', 'Helen Gleeson', 'Waterford', '€16.30', '€64.31'),\n",
       " (123, '08/10/20', 'Sean Meagher', 'Mayo', '€00.00', '€542.11'),\n",
       " (124, '08/10/20', 'Mary Gleeson', 'Mayo', '€00.00', '€154.31'),\n",
       " (125, '09/10/20', 'Carol Brett', 'Cork', '€00.00', '€54.41'),\n",
       " (126, '09/10/20', 'Paul Hayes', 'Limerick', '€15.30', '€594.37'),\n",
       " (127, '10/10/20', 'Margaret Cornally', 'Meath', '€00.00', '€14.31'),\n",
       " (128, '10/10/20', 'Jim Ryan', 'Dublin', '€15.30', '€00.00'),\n",
       " (129, '10/10/20', 'Ann Jones', 'Waterford', '€115.30', '€549.21'),\n",
       " (130, '10/10/20', 'Michael Ryan', 'Waterford', '€00.00', '€544.31'),\n",
       " (131, '11/10/20', 'James Murphy', 'Tipperary', '€15.30', '€00.00'),\n",
       " (132, '11/10/20', 'Tom Ryan', 'Cork', '€75.30', '€24.31'),\n",
       " (133, '11/10/20', 'Sue Jones', 'Limerick', '€199.31', '€704.32'),\n",
       " (134, '11/10/20', 'Noreen Brett', 'Dublin', '€105.30', '€00.00'),\n",
       " (135, '12/10/20', 'Mary Burke', 'Tipperary', '€159.30', '€00.00'),\n",
       " (136, '12/10/20', 'Oliver Ryan', 'Donegal', '€00.00', '€254.31'),\n",
       " (137, '12/10/20', 'PJ Burke', 'Cork', '€4.30', '€54.00'),\n",
       " (138, '12/10/20', 'Patrick Corcoran', 'Cork', '€15.30', '€54.31'),\n",
       " (139, '12/10/20', 'June Roberts', 'Cork', '€145.30', '€254.31'),\n",
       " (140, '12/10/20', 'May Burke', 'Kerry', '€00.00', '€44.31'),\n",
       " (141, '12/10/20', 'Winter Ryan', 'Tipperary', '€15.39', '€34.31'),\n",
       " (142, '12/10/20', 'Una Jones', 'Kerry', '€00.00', '€54.31'),\n",
       " (143, '13/10/20', 'Albert Brett', 'Wexford', '€15.30', '€44.31'),\n",
       " (144, '13/10/20', 'Maggie Bourke', 'Cork', '€00.00', '€354.37'),\n",
       " (145, '13/10/20', 'Kerry Ryan', 'Tipperary', '€00.00', '€54.32'),\n",
       " (146, '13/10/20', 'Tom Roberts', 'Cork', '€75.30', '€54.31'),\n",
       " (147, '13/10/20', 'Sue Corcoran', 'Limerick', '€19.31', '€105.32'),\n",
       " (148, '13/10/20', 'Noreen Carey', 'Dublin', '€00.00', '€54.31'),\n",
       " (149, '13/10/20', 'Paul Burke', 'Tipperary', '€00.0', '€54.61'),\n",
       " (150, '14/10/20', 'Michael O Rourke', 'Limerick', '€00.00', '€24.38'),\n",
       " (151, '14/10/20', 'David O Flaherty', 'Limerick', '€00.00', '€14.99'),\n",
       " (152, '14/10/20', 'Matthew Fitzsimmons', 'Tipperary', '€5.30', '€54.99'),\n",
       " (153, '14/10/20', 'Jim Jones', 'Tipperary', '€5.39', '€105.99'),\n",
       " (154, '15/10/20', 'James O Connor', 'Limerick', '€5.30', '€53.99'),\n",
       " (155, '15/10/20', 'Michael Burke', 'Limerick', '€00.00', '€54.99'),\n",
       " (156, '15/10/20', 'Olivia Ryan', 'Donegal', '€00.00', '€154.00'),\n",
       " (157, '15/10/20', 'Nuala Brett', 'Wexford', '€00.00', '€58.00'),\n",
       " (158, '16/10/20', 'Nicola O Connor', 'Mayo', '€00.00', '€154.31'),\n",
       " (159, '16/10/20', 'Claire Greene', 'Tipperary', '€00.00', '€64.01'),\n",
       " (160, '16/10/20', 'Pauline Murphy', 'Cork', '€5.30', '€54.00'),\n",
       " (161, '17/10/20', 'Sue Fitzgerald', 'Limerick', '€19.31', '€04.32'),\n",
       " (162, '17/10/20', 'Noreen O Rourke', 'Dublin', '€105.30', '€64.31'),\n",
       " (163, '18/10/20', 'Sophie Murphy', 'Tipperary', '€115.30', '€54.31'),\n",
       " (164, '18/10/20', 'Chloe Jones', 'Wexford', '€00.00', '€543.31'),\n",
       " (165, '18/10/20', 'Emma O Connor', 'Wexford', '€00.00', '€54.31'),\n",
       " (166, '18/10/20', 'Moira Ryan', 'Mayo', '€15.30', '€154.31'),\n",
       " (167, '19/10/20', 'David Dunne', 'Galway', '€00.00', '€54.31'),\n",
       " (168, '19/10/20', 'Nuala Fitzpatrick', 'Galway', '€00.00', '€154.00'),\n",
       " (169, '19/10/20', 'Deirdre Ryan', 'Tipperary', '€00.00', '€54.31'),\n",
       " (170, '20/10/20', 'Mary Fitzpatrick', 'Cork', '€00.00', '€524.00'),\n",
       " (171, '01/10/20', 'Mary Ryan', 'Tipperary', '€15.30', '€54.31'),\n",
       " (172, '01/10/20', 'Tom Jones', 'Cork', '€75.30', '€54.31'),\n",
       " (173, '01/10/20', 'Sue Bloggs', 'Limerick', '€19.31', '€104.32'),\n",
       " (174, '02/10/20', 'Noreen Ryan', 'Dublin', '€105.30', '€54.31'),\n",
       " (175, '02/10/20', 'Carol Kerns', 'Tipperary', '€150.30', '€454.32'),\n",
       " (176, '02/10/20', 'Joe Maher', 'Meath', '€15.30', '€4.31'),\n",
       " (177, '02/10/20', 'Anna Corcoran', 'Mayo', '€415.30', '€954.61'),\n",
       " (178, '03/10/20', 'Michelle Ryan', 'Mayo', '€5.30', '€64.31'),\n",
       " (179, '04/10/20', 'Moira Browne', 'Tipperary', '€15.36', '€94.31'),\n",
       " (180, '04/10/20', 'Patrick Treacy', 'Cork', '€65.30', '€54.31'),\n",
       " (181, '04/10/20', 'Peggy Greene', 'Belfast', '€151.70', '€453.81'),\n",
       " (182, '05/10/20', 'Michael Browne', 'Kerry', '€115.40', '€546.38'),\n",
       " (183, '05/10/20', 'Mary Murphy', 'Mayo', '€100.30', '€54.31'),\n",
       " (184, '06/10/20', 'Catherine Givens', 'Mayo', '€00.00', '€54.31'),\n",
       " (185, '06/10/20', 'Tom Murphy', 'Tipperary', '€5.30', '€54.31'),\n",
       " (186, '06/10/20', 'John Brett', 'Cork', '€5.30', '€54.34'),\n",
       " (187, '07/10/20', 'Andy Treacy', 'Limerick', '€19.31', '€114.32'),\n",
       " (188, '07/10/20', 'Paudie Burke', 'Dublin', '€106.30', '€53.31'),\n",
       " (189, '07/10/20', 'Nonie Murphy', 'Tipperary', '€15.30', '€54.31'),\n",
       " (190, '08/10/20', 'Helen Gleeson', 'Waterford', '€16.30', '€64.31'),\n",
       " (191, '08/10/20', 'Sean Meagher', 'Mayo', '€00.00', '€542.11'),\n",
       " (192, '08/10/20', 'Mary Gleeson', 'Mayo', '€00.00', '€154.31'),\n",
       " (193, '09/10/20', 'Carol Brett', 'Cork', '€00.00', '€54.41'),\n",
       " (194, '09/10/20', 'Paul Hayes', 'Limerick', '€15.30', '€594.37'),\n",
       " (195, '10/10/20', 'Margaret Cornally', 'Meath', '€00.00', '€14.31'),\n",
       " (196, '10/10/20', 'Jim Ryan', 'Dublin', '€15.30', '€00.00'),\n",
       " (197, '10/10/20', 'Ann Jones', 'Waterford', '€115.30', '€549.21'),\n",
       " (198, '10/10/20', 'Michael Ryan', 'Waterford', '€00.00', '€544.31'),\n",
       " (199, '11/10/20', 'James Murphy', 'Tipperary', '€15.30', '€00.00'),\n",
       " (200, '11/10/20', 'Tom Ryan', 'Cork', '€75.30', '€24.31'),\n",
       " (201, '11/10/20', 'Sue Jones', 'Limerick', '€199.31', '€704.32'),\n",
       " (202, '11/10/20', 'Noreen Brett', 'Dublin', '€105.30', '€00.00'),\n",
       " (203, '12/10/20', 'Mary Burke', 'Tipperary', '€159.30', '€00.00'),\n",
       " (204, '12/10/20', 'Oliver Ryan', 'Donegal', '€00.00', '€254.31'),\n",
       " (205, '12/10/20', 'PJ Burke', 'Cork', '€4.30', '€54.00'),\n",
       " (206, '12/10/20', 'Patrick Corcoran', 'Cork', '€15.30', '€54.31'),\n",
       " (207, '12/10/20', 'June Roberts', 'Cork', '€145.30', '€254.31'),\n",
       " (208, '12/10/20', 'May Burke', 'Kerry', '€00.00', '€44.31'),\n",
       " (209, '12/10/20', 'Winter Ryan', 'Tipperary', '€15.39', '€34.31'),\n",
       " (210, '12/10/20', 'Una Jones', 'Kerry', '€00.00', '€54.31'),\n",
       " (211, '13/10/20', 'Albert Brett', 'Wexford', '€15.30', '€44.31'),\n",
       " (212, '13/10/20', 'Maggie Bourke', 'Cork', '€00.00', '€354.37'),\n",
       " (213, '13/10/20', 'Kerry Ryan', 'Tipperary', '€00.00', '€54.32'),\n",
       " (214, '13/10/20', 'Tom Roberts', 'Cork', '€75.30', '€54.31'),\n",
       " (215, '13/10/20', 'Sue Corcoran', 'Limerick', '€19.31', '€105.32'),\n",
       " (216, '13/10/20', 'Noreen Carey', 'Dublin', '€00.00', '€54.31'),\n",
       " (217, '13/10/20', 'Paul Burke', 'Tipperary', '€00.0', '€54.61'),\n",
       " (218, '14/10/20', 'Michael O Rourke', 'Limerick', '€00.00', '€24.38'),\n",
       " (219, '14/10/20', 'David O Flaherty', 'Limerick', '€00.00', '€14.99'),\n",
       " (220, '14/10/20', 'Matthew Fitzsimmons', 'Tipperary', '€5.30', '€54.99'),\n",
       " (221, '14/10/20', 'Jim Jones', 'Tipperary', '€5.39', '€105.99'),\n",
       " (222, '15/10/20', 'James O Connor', 'Limerick', '€5.30', '€53.99'),\n",
       " (223, '15/10/20', 'Michael Burke', 'Limerick', '€00.00', '€54.99'),\n",
       " (224, '15/10/20', 'Olivia Ryan', 'Donegal', '€00.00', '€154.00'),\n",
       " (225, '15/10/20', 'Nuala Brett', 'Wexford', '€00.00', '€58.00'),\n",
       " (226, '16/10/20', 'Nicola O Connor', 'Mayo', '€00.00', '€154.31'),\n",
       " (227, '16/10/20', 'Claire Greene', 'Tipperary', '€00.00', '€64.01'),\n",
       " (228, '16/10/20', 'Pauline Murphy', 'Cork', '€5.30', '€54.00'),\n",
       " (229, '17/10/20', 'Sue Fitzgerald', 'Limerick', '€19.31', '€04.32'),\n",
       " (230, '17/10/20', 'Noreen O Rourke', 'Dublin', '€105.30', '€64.31'),\n",
       " (231, '18/10/20', 'Sophie Murphy', 'Tipperary', '€115.30', '€54.31'),\n",
       " (232, '18/10/20', 'Chloe Jones', 'Wexford', '€00.00', '€543.31'),\n",
       " (233, '18/10/20', 'Emma O Connor', 'Wexford', '€00.00', '€54.31'),\n",
       " (234, '18/10/20', 'Moira Ryan', 'Mayo', '€15.30', '€154.31'),\n",
       " (235, '19/10/20', 'David Dunne', 'Galway', '€00.00', '€54.31'),\n",
       " (236, '19/10/20', 'Nuala Fitzpatrick', 'Galway', '€00.00', '€154.00'),\n",
       " (237, '19/10/20', 'Deirdre Ryan', 'Tipperary', '€00.00', '€54.31'),\n",
       " (238, '20/10/20', 'Mary Fitzpatrick', 'Cork', '€00.00', '€524.00'),\n",
       " (239, '20/10/20', 'Caroline O Meara', 'Cork', '€15.00', '€00.00'),\n",
       " (240, '21/10/20', 'Jack Fitzsimmons', 'Donegal', '€14.30', '€00.00'),\n",
       " (241, '21/10/20', 'Pat Carey', 'Donegal', '€00.00', '€44.00'),\n",
       " (242, '21/10/20', 'Tom O Brien', 'Cork', '€75.30', '€00.00'),\n",
       " (243, '22/10/20', 'Sue O Keeffe', 'Limerick', '€19.00', '€105.32'),\n",
       " (244, '22/10/20', 'Noreen Smyth', 'Dublin', '€105.31', '€59.00'),\n",
       " (245, '22/10/20', 'Petula Smyth', 'Tipperary', '€15.30', '€00.00'),\n",
       " (246, '22/10/20', 'Nancy Duff', 'Donegal', '€00.00', '€154.99'),\n",
       " (247, '22/10/20', 'Fay O Brien', 'Tipperary', '€00.00', '€54.00'),\n",
       " (248, '01/10/20', 'Mary Ryan', 'Tipperary', '€15.30', '€54.31'),\n",
       " (249, '01/10/20', 'Tom Jones', 'Cork', '€75.30', '€54.31'),\n",
       " (250, '01/10/20', 'Sue Bloggs', 'Limerick', '€19.31', '€104.32'),\n",
       " (251, '02/10/20', 'Noreen Ryan', 'Dublin', '€105.30', '€54.31'),\n",
       " (252, '02/10/20', 'Carol Kerns', 'Tipperary', '€150.30', '€454.32'),\n",
       " (253, '02/10/20', 'Joe Maher', 'Meath', '€15.30', '€4.31'),\n",
       " (254, '02/10/20', 'Anna Corcoran', 'Mayo', '€415.30', '€954.61'),\n",
       " (255, '03/10/20', 'Michelle Ryan', 'Mayo', '€5.30', '€64.31'),\n",
       " (256, '04/10/20', 'Moira Browne', 'Tipperary', '€15.36', '€94.31'),\n",
       " (257, '04/10/20', 'Patrick Treacy', 'Cork', '€65.30', '€54.31'),\n",
       " (258, '04/10/20', 'Peggy Greene', 'Belfast', '€151.70', '€453.81'),\n",
       " (259, '05/10/20', 'Michael Browne', 'Kerry', '€115.40', '€546.38'),\n",
       " (260, '05/10/20', 'Mary Murphy', 'Mayo', '€100.30', '€54.31'),\n",
       " (261, '06/10/20', 'Catherine Givens', 'Mayo', '€00.00', '€54.31'),\n",
       " (262, '06/10/20', 'Tom Murphy', 'Tipperary', '€5.30', '€54.31'),\n",
       " (263, '06/10/20', 'John Brett', 'Cork', '€5.30', '€54.34'),\n",
       " (264, '07/10/20', 'Andy Treacy', 'Limerick', '€19.31', '€114.32'),\n",
       " (265, '07/10/20', 'Paudie Burke', 'Dublin', '€106.30', '€53.31'),\n",
       " (266, '07/10/20', 'Nonie Murphy', 'Tipperary', '€15.30', '€54.31'),\n",
       " (267, '08/10/20', 'Helen Gleeson', 'Waterford', '€16.30', '€64.31'),\n",
       " (268, '08/10/20', 'Sean Meagher', 'Mayo', '€00.00', '€542.11'),\n",
       " (269, '08/10/20', 'Mary Gleeson', 'Mayo', '€00.00', '€154.31'),\n",
       " (270, '09/10/20', 'Carol Brett', 'Cork', '€00.00', '€54.41'),\n",
       " (271, '09/10/20', 'Paul Hayes', 'Limerick', '€15.30', '€594.37'),\n",
       " (272, '10/10/20', 'Margaret Cornally', 'Meath', '€00.00', '€14.31'),\n",
       " (273, '10/10/20', 'Jim Ryan', 'Dublin', '€15.30', '€00.00'),\n",
       " (274, '10/10/20', 'Ann Jones', 'Waterford', '€115.30', '€549.21'),\n",
       " (275, '10/10/20', 'Michael Ryan', 'Waterford', '€00.00', '€544.31'),\n",
       " (276, '11/10/20', 'James Murphy', 'Tipperary', '€15.30', '€00.00'),\n",
       " (277, '11/10/20', 'Tom Ryan', 'Cork', '€75.30', '€24.31'),\n",
       " (278, '11/10/20', 'Sue Jones', 'Limerick', '€199.31', '€704.32'),\n",
       " (279, '11/10/20', 'Noreen Brett', 'Dublin', '€105.30', '€00.00'),\n",
       " (280, '12/10/20', 'Mary Burke', 'Tipperary', '€159.30', '€00.00'),\n",
       " (281, '12/10/20', 'Oliver Ryan', 'Donegal', '€00.00', '€254.31'),\n",
       " (282, '12/10/20', 'PJ Burke', 'Cork', '€4.30', '€54.00'),\n",
       " (283, '12/10/20', 'Patrick Corcoran', 'Cork', '€15.30', '€54.31'),\n",
       " (284, '12/10/20', 'June Roberts', 'Cork', '€145.30', '€254.31'),\n",
       " (285, '12/10/20', 'May Burke', 'Kerry', '€00.00', '€44.31'),\n",
       " (286, '12/10/20', 'Winter Ryan', 'Tipperary', '€15.39', '€34.31'),\n",
       " (287, '12/10/20', 'Una Jones', 'Kerry', '€00.00', '€54.31'),\n",
       " (288, '13/10/20', 'Albert Brett', 'Wexford', '€15.30', '€44.31'),\n",
       " (289, '13/10/20', 'Maggie Bourke', 'Cork', '€00.00', '€354.37'),\n",
       " (290, '13/10/20', 'Kerry Ryan', 'Tipperary', '€00.00', '€54.32'),\n",
       " (291, '13/10/20', 'Tom Roberts', 'Cork', '€75.30', '€54.31'),\n",
       " (292, '13/10/20', 'Sue Corcoran', 'Limerick', '€19.31', '€105.32'),\n",
       " (293, '13/10/20', 'Noreen Carey', 'Dublin', '€00.00', '€54.31'),\n",
       " (294, '13/10/20', 'Paul Burke', 'Tipperary', '€00.0', '€54.61'),\n",
       " (295, '14/10/20', 'Michael O Rourke', 'Limerick', '€00.00', '€24.38'),\n",
       " (296, '14/10/20', 'David O Flaherty', 'Limerick', '€00.00', '€14.99'),\n",
       " (297, '14/10/20', 'Matthew Fitzsimmons', 'Tipperary', '€5.30', '€54.99'),\n",
       " (298, '14/10/20', 'Jim Jones', 'Tipperary', '€5.39', '€105.99'),\n",
       " (299, '15/10/20', 'James O Connor', 'Limerick', '€5.30', '€53.99'),\n",
       " (300, '15/10/20', 'Michael Burke', 'Limerick', '€00.00', '€54.99'),\n",
       " (301, '15/10/20', 'Olivia Ryan', 'Donegal', '€00.00', '€154.00'),\n",
       " (302, '15/10/20', 'Nuala Brett', 'Wexford', '€00.00', '€58.00'),\n",
       " (303, '16/10/20', 'Nicola O Connor', 'Mayo', '€00.00', '€154.31'),\n",
       " (304, '16/10/20', 'Claire Greene', 'Tipperary', '€00.00', '€64.01'),\n",
       " (305, '16/10/20', 'Pauline Murphy', 'Cork', '€5.30', '€54.00'),\n",
       " (306, '17/10/20', 'Sue Fitzgerald', 'Limerick', '€19.31', '€04.32'),\n",
       " (307, '17/10/20', 'Noreen O Rourke', 'Dublin', '€105.30', '€64.31'),\n",
       " (308, '18/10/20', 'Sophie Murphy', 'Tipperary', '€115.30', '€54.31'),\n",
       " (309, '18/10/20', 'Chloe Jones', 'Wexford', '€00.00', '€543.31'),\n",
       " (310, '18/10/20', 'Emma O Connor', 'Wexford', '€00.00', '€54.31'),\n",
       " (311, '18/10/20', 'Moira Ryan', 'Mayo', '€15.30', '€154.31'),\n",
       " (312, '19/10/20', 'David Dunne', 'Galway', '€00.00', '€54.31'),\n",
       " (313, '19/10/20', 'Nuala Fitzpatrick', 'Galway', '€00.00', '€154.00'),\n",
       " (314, '19/10/20', 'Deirdre Ryan', 'Tipperary', '€00.00', '€54.31'),\n",
       " (315, '20/10/20', 'Mary Fitzpatrick', 'Cork', '€00.00', '€524.00'),\n",
       " (316, '20/10/20', 'Caroline O Meara', 'Cork', '€15.00', '€00.00'),\n",
       " (317, '21/10/20', 'Jack Fitzsimmons', 'Donegal', '€14.30', '€00.00'),\n",
       " (318, '21/10/20', 'Pat Carey', 'Donegal', '€00.00', '€44.00'),\n",
       " (319, '21/10/20', 'Tom O Brien', 'Cork', '€75.30', '€00.00'),\n",
       " (320, '22/10/20', 'Sue O Keeffe', 'Limerick', '€19.00', '€105.32'),\n",
       " (321, '22/10/20', 'Noreen Smyth', 'Dublin', '€105.31', '€59.00'),\n",
       " (322, '22/10/20', 'Petula Smyth', 'Tipperary', '€15.30', '€00.00'),\n",
       " (323, '22/10/20', 'Nancy Duff', 'Donegal', '€00.00', '€154.99'),\n",
       " (324, '22/10/20', 'Fay O Brien', 'Tipperary', '€00.00', '€54.00'),\n",
       " (325, '23/10/20', 'Conor O Brien', 'Tipperary', '€5.30', '€59.00'),\n",
       " (326, '23/10/20', 'Bryan Ryan', 'Cork', '€00.00', '€54.00'),\n",
       " (327, '24/10/20', 'Fergal Kerns', 'Cork', '€00.00', '€254.99'),\n",
       " (328, '25/10/20', 'Dermot O Brien', 'Belfast', '€00.00', '€54.65'),\n",
       " (329, '26/10/20', 'Maisy Summer', 'Waterford', '€00.00', '€54.97'),\n",
       " (330, '27/10/20', 'Emma O Dee', 'Cavan', '€00.00', '€44.33'),\n",
       " (331, '28/10/20', 'Deirdre Murphy', 'Limerick', '€00.00', '€100.00'),\n",
       " (332, '28/10/20', 'Mary Smyth', 'Tipperary', '€15.30', '€54.31'),\n",
       " (333, '28/10/20', 'Nancy Jones', 'Cork', '€75.30', '€54.00'),\n",
       " (334, '29/10/20', 'Sue O Brien', 'Limerick', '€18.31', '€104.30'),\n",
       " (335, '29/10/20', 'Noreen Winter', 'Dublin', '€00.00', '€44.33'),\n",
       " (336, '29/10/20', 'Margaret O Brien', 'Dublin', '€115.00', '€00.00'),\n",
       " (337, '29/10/20', 'May Slattery', 'Meath', '€00.00', '€57.39'),\n",
       " (338, '30/10/20', 'Mary Slattery', 'Kerry', '€00.00', '€54.36'),\n",
       " (339, '30/10/20', 'Sam Ryan', 'Kerry', '€00.00', '€52.00'),\n",
       " (340, '30/10/20', 'John Ryan', 'Mayo', '€00.00', '€154.00'),\n",
       " (341, '30/10/20', 'Liam Ryan', 'Galway', '€19.30', '€154.31'),\n",
       " (342, '30/10/20', 'Brid Ryan', 'Galway', '€19.90', '€00.00'),\n",
       " (343, '31/10/20', 'Sophia Ryan', 'Derry', '€00.00', '€54.99'),\n",
       " (344, '31/10/20', 'Mary Fitzpatrick', 'Dublin', '€00.00', '€45.54'),\n",
       " (345, '31/10/20', 'Caroline Smyth', 'Tipperary', '€00.00', '€56.89'),\n",
       " (346, '31/10/20', 'Helena Jones', 'Tipperary', '€00.00', '€59.69'),\n",
       " (347, '31/10/20', 'Helen Jones', 'Cork', '€75.39', '€24.99')]"
      ]
     },
     "execution_count": 26,
     "metadata": {},
     "output_type": "execute_result"
    }
   ],
   "source": [
    "# reran data base information \n",
    "c.execute(\"SELECT ROWID, date, name, address, instore, online FROM person\")\n",
    "c.fetchall()"
   ]
  },
  {
   "cell_type": "markdown",
   "metadata": {},
   "source": [
    "## Relationships"
   ]
  },
  {
   "cell_type": "code",
   "execution_count": 50,
   "metadata": {},
   "outputs": [
    {
     "name": "stdout",
     "output_type": "stream",
     "text": [
      "[948 504 109 348 771 344 916 190 392 497 975 816  60 128 502 618 158 954\n",
      " 401 900 596 501 262 319 984 969 619 464 874 278 687 849 565 638 138 951\n",
      " 508 159 838 847 877 417 477 956 832 756 384  96 419 282 250 428 183 851\n",
      " 572 387 926 605 528 899 994  27 431 233 841 890 223 531 282 198  87 189\n",
      " 106 883 422   5 189 238 315 257 131 432 343 981 164   8   6 444 635 347\n",
      " 416 825 664 377 967 930 676  32 344  42] [770 908 209 750 494  13 420 449 829 870 572 396 115 988 590  83 257 908\n",
      " 196 978 878 637  91 665 572 750 680  16 955 863 717 592 891 486  68 397\n",
      " 614  49 172 958 373 923 355 668 890 322 239 687 413 560 112 381 749 262\n",
      " 616 780 447 510 170 253 896 886 404 419  59 105 996  55 664 999 613 105\n",
      " 397  67 765 621  17 781 322 350 625 701 903 200 102  81 932 565 326 845\n",
      " 493 332 764 629  71 629  81 572 411 676]\n"
     ]
    },
    {
     "data": {
      "image/png": "[encoded data removed]",
      "text/plain": [
       "<Figure size 432x288 with 1 Axes>"
      ]
     },
     "metadata": {
      "needs_background": "light"
     },
     "output_type": "display_data"
    }
   ],
   "source": [
    "# print histogram of spending on line and in store\n",
    "print(x,y)\n",
    "plt.title(\"Spending in store / on line\")\n",
    "plt.hist(x)\n",
    "plt.hist(y)\n",
    "plt.show()"
   ]
  },
  {
   "cell_type": "markdown",
   "metadata": {},
   "source": [
    "## Data exploration"
   ]
  },
  {
   "cell_type": "code",
   "execution_count": 52,
   "metadata": {},
   "outputs": [],
   "source": [
    "# I was unable to get the data set into a csv file so I used another selected another data set to explore"
   ]
  },
  {
   "cell_type": "code",
   "execution_count": 53,
   "metadata": {},
   "outputs": [],
   "source": [
    "# loaded the dataset for project\n",
    "df = pd.read_csv(\"https://raw.githubusercontent.com/ianmcloughlin/2020A-machstat-project/master/dataset/powerproduction.csv\")"
   ]
  },
  {
   "cell_type": "code",
   "execution_count": 54,
   "metadata": {},
   "outputs": [
    {
     "data": {
      "text/plain": [
       "(500, 2)"
      ]
     },
     "execution_count": 54,
     "metadata": {},
     "output_type": "execute_result"
    }
   ],
   "source": [
    "# there are 2 columns with 500 rows of data\n",
    "df.shape"
   ]
  },
  {
   "cell_type": "code",
   "execution_count": 57,
   "metadata": {},
   "outputs": [
    {
     "data": {
      "text/html": [
       "<div>\n",
       "<style scoped>\n",
       "    .dataframe tbody tr th:only-of-type {\n",
       "        vertical-align: middle;\n",
       "    }\n",
       "\n",
       "    .dataframe tbody tr th {\n",
       "        vertical-align: top;\n",
       "    }\n",
       "\n",
       "    .dataframe thead th {\n",
       "        text-align: right;\n",
       "    }\n",
       "</style>\n",
       "<table border=\"1\" class=\"dataframe\">\n",
       "  <thead>\n",
       "    <tr style=\"text-align: right;\">\n",
       "      <th></th>\n",
       "      <th>speed</th>\n",
       "      <th>power</th>\n",
       "    </tr>\n",
       "  </thead>\n",
       "  <tbody>\n",
       "    <tr>\n",
       "      <th>count</th>\n",
       "      <td>500.000000</td>\n",
       "      <td>500.000000</td>\n",
       "    </tr>\n",
       "    <tr>\n",
       "      <th>mean</th>\n",
       "      <td>12.590398</td>\n",
       "      <td>48.014584</td>\n",
       "    </tr>\n",
       "    <tr>\n",
       "      <th>std</th>\n",
       "      <td>7.224991</td>\n",
       "      <td>41.614572</td>\n",
       "    </tr>\n",
       "    <tr>\n",
       "      <th>min</th>\n",
       "      <td>0.000000</td>\n",
       "      <td>0.000000</td>\n",
       "    </tr>\n",
       "    <tr>\n",
       "      <th>25%</th>\n",
       "      <td>6.324750</td>\n",
       "      <td>5.288000</td>\n",
       "    </tr>\n",
       "    <tr>\n",
       "      <th>50%</th>\n",
       "      <td>12.550500</td>\n",
       "      <td>41.645500</td>\n",
       "    </tr>\n",
       "    <tr>\n",
       "      <th>75%</th>\n",
       "      <td>18.775250</td>\n",
       "      <td>93.537000</td>\n",
       "    </tr>\n",
       "    <tr>\n",
       "      <th>max</th>\n",
       "      <td>25.000000</td>\n",
       "      <td>113.556000</td>\n",
       "    </tr>\n",
       "  </tbody>\n",
       "</table>\n",
       "</div>"
      ],
      "text/plain": [
       "            speed       power\n",
       "count  500.000000  500.000000\n",
       "mean    12.590398   48.014584\n",
       "std      7.224991   41.614572\n",
       "min      0.000000    0.000000\n",
       "25%      6.324750    5.288000\n",
       "50%     12.550500   41.645500\n",
       "75%     18.775250   93.537000\n",
       "max     25.000000  113.556000"
      ]
     },
     "execution_count": 57,
     "metadata": {},
     "output_type": "execute_result"
    }
   ],
   "source": [
    "# gives the data set averages\n",
    "df.describe()"
   ]
  },
  {
   "cell_type": "code",
   "execution_count": 59,
   "metadata": {},
   "outputs": [],
   "source": [
    "# I seperated the speed and the power and printed as individual lists.\n",
    "a = df['speed']"
   ]
  },
  {
   "cell_type": "code",
   "execution_count": 60,
   "metadata": {},
   "outputs": [],
   "source": [
    "b = df['power']"
   ]
  },
  {
   "cell_type": "code",
   "execution_count": 61,
   "metadata": {},
   "outputs": [
    {
     "data": {
      "image/png": "[encoded data removed]",
      "text/plain": [
       "<Figure size 432x288 with 1 Axes>"
      ]
     },
     "metadata": {
      "needs_background": "light"
     },
     "output_type": "display_data"
    }
   ],
   "source": [
    "# Create the plot.\n",
    "plt.plot(a, b, 'b.')\n",
    "\n",
    "# label the plot\n",
    "plt.xlabel('Speed (input)')\n",
    "plt.ylabel('Power (output)')\n",
    "plt.title('Powerproduction')\n",
    "\n",
    "# Show the plot.\n",
    "plt.show()"
   ]
  },
  {
   "cell_type": "markdown",
   "metadata": {},
   "source": [
    "## Distribution"
   ]
  },
  {
   "cell_type": "markdown",
   "metadata": {},
   "source": [
    "The distribution of a statistical data set (or a population) is a listing or function showing all the possible values (or intervals) of the data and how often they occur. When a distribution of categorical data is organized, you see the number or percentage of individuals in each group. When a distribution of numerical data is organized, they’re often ordered from smallest to largest, broken into reasonably sized groups (if appropriate), and then put into graphs and charts to examine the shape, center, and amount of variability in the data."
   ]
  },
  {
   "cell_type": "markdown",
   "metadata": {},
   "source": [
    "In statistics, uniform distribution is a term used to describe a form of probability distribution where every possible outcome has an equal likelihood of happening. The probability is constant since each variable has equal chances of being the outcome. Good examples are picking a card from a deck or rolling a dice.\n",
    "\n",
    "Within the uniform distribution there are two examples of uniform distributions.\n",
    "\n",
    "Descrete uniform distributions\n",
    "\n",
    "    probability of hitting heads or tails\n",
    "    probability of landing on each side of a dice\n",
    "\n",
    "Continuous uniform distribution\n",
    "\n",
    "    perfect random number generator\n",
    "    probability of guessing exact time at any moment\n",
    "\n"
   ]
  },
  {
   "cell_type": "code",
   "execution_count": 64,
   "metadata": {},
   "outputs": [
    {
     "data": {
      "text/plain": [
       "array([26.72786884, 46.82061449,  7.24137869, 37.40778118, 11.90941772,\n",
       "       12.25937378, 36.41759098, 27.82527313, 32.13230869, 47.46590582,\n",
       "       24.42315611, 23.99911772,  8.88773995,  9.6405093 , 19.35838862,\n",
       "       35.49190155,  8.09636488,  3.11185714, 43.20202913, 45.9781386 ,\n",
       "       38.69025317,  4.30188191, 20.05597027, 19.44500587, 19.32512451,\n",
       "       33.51128256, 31.17141644, 32.7358566 ,  1.37974733, 37.06993244,\n",
       "       12.20031921, 40.72730991, 27.20112237, 40.88357745, 22.73016977,\n",
       "       31.43793145,  5.22495424,  3.18484886, 23.92405339, 22.66914187,\n",
       "       13.13760964,  5.33997036, 38.09479788, 11.96289219, 18.55908408,\n",
       "       13.34052084, 11.49142638,  6.38280809,  3.2954377 , 18.61921351,\n",
       "       48.13409356, 11.89260957,  1.16113358, 33.63158227, 35.55940439,\n",
       "        5.57959182,  3.24555848, 18.17474687, 40.60769179, 27.00253165,\n",
       "       24.63553277, 32.23422875, 49.61192418,  7.69077561, 34.86659061,\n",
       "       10.72502533, 42.80660327, 28.71333764,  7.39855701, 25.27109017,\n",
       "       20.61835459, 13.72614705, 17.87350832,  6.10201278,  3.41640991,\n",
       "        3.31489173, 27.0265483 , 16.4749483 ,  5.63400436, 47.30352534,\n",
       "       34.80661734, 34.87070087,  3.690046  , 16.49134013, 18.80229127,\n",
       "       33.20715044, 15.01650185, 24.83846138,  2.11934869, 22.0082249 ,\n",
       "       31.98806839, 44.45413811, 17.49157717, 38.64422394,  8.31237819,\n",
       "        7.47122966, 31.09263811,  2.77149573,  8.80942756, 48.5242387 ])"
      ]
     },
     "execution_count": 64,
     "metadata": {},
     "output_type": "execute_result"
    }
   ],
   "source": [
    "import numpy as np \n",
    "np.random.uniform(1,50,100)\n",
    "#the first number is the lowest, the second is the highest, and the last is the amount of numbers i want to return"
   ]
  },
  {
   "cell_type": "markdown",
   "metadata": {},
   "source": [
    "### Pairplots of data set"
   ]
  },
  {
   "cell_type": "code",
   "execution_count": 62,
   "metadata": {},
   "outputs": [
    {
     "data": {
      "text/plain": [
       "<seaborn.axisgrid.PairGrid at 0x1c33f638cd0>"
      ]
     },
     "execution_count": 62,
     "metadata": {},
     "output_type": "execute_result"
    },
    {
     "data": {
      "image/png": "[encoded data removed]",
      "text/plain": [
       "<Figure size 360x360 with 6 Axes>"
      ]
     },
     "metadata": {
      "needs_background": "light"
     },
     "output_type": "display_data"
    }
   ],
   "source": [
    "# more plots of data\n",
    "sns.pairplot(df)"
   ]
  },
  {
   "cell_type": "code",
   "execution_count": 63,
   "metadata": {},
   "outputs": [
    {
     "data": {
      "text/plain": [
       "<seaborn.axisgrid.JointGrid at 0x1c33f8243d0>"
      ]
     },
     "execution_count": 63,
     "metadata": {},
     "output_type": "execute_result"
    },
    {
     "data": {
      "image/png": "[encoded data removed]",
      "text/plain": [
       "<Figure size 432x432 with 3 Axes>"
      ]
     },
     "metadata": {
      "needs_background": "light"
     },
     "output_type": "display_data"
    }
   ],
   "source": [
    "# Use seaborn to create a jointplot to compare power and speed\n",
    "sns.jointplot(x='speed',y ='power', data = df)"
   ]
  },
  {
   "cell_type": "markdown",
   "metadata": {},
   "source": [
    "## Conclusion"
   ]
  },
  {
   "cell_type": "markdown",
   "metadata": {},
   "source": [
    "I split it in to three sections; \n",
    "- Initially showing how to randomly select data from numpy.random.  \n",
    "- I then created a database using sqlite to create a database.  \n",
    "- I then used another data set to explore that data as I was unable to save my database into a csv file."
   ]
  },
  {
   "cell_type": "markdown",
   "metadata": {},
   "source": [
    "## Reference"
   ]
  },
  {
   "cell_type": "markdown",
   "metadata": {},
   "source": [
    "https://stackoverflow.com/questions/57274902/python-iterate-over-all-days-in-a-month\n",
    "\n",
    "https://stackoverflow.com/questions/21231789/how-to-get-all-days-in-current-month\n",
    "\n",
    "https://docs.scipy.org/doc//numpy-1.10.4/reference/generated/numpy.random.choice.html\n",
    "\n",
    "https://github.com/caroltreacy/fundamentals-project-2020/blob/main/Project%202020%20-%20powerproduction.ipynb\n",
    "\n",
    "https://www.geeksforgeeks.org/gre-data-analysis-distribution-of-data-random-variables-and-probability-distributions/\n",
    "\n",
    "https://www.dummies.com/education/math/statistics/what-the-distribution-tells-you-about-a-statistical-data-set/\n",
    "\n",
    "https://github.com/caroltreacy/programming-2020-Ass/blob/main/Assignment%202020.ipynb"
   ]
  },
  {
   "cell_type": "markdown",
   "metadata": {},
   "source": [
    "## End"
   ]
  }
 ],
 "metadata": {
  "kernelspec": {
   "display_name": "Python 3",
   "language": "python",
   "name": "python3"
  },
  "language_info": {
   "codemirror_mode": {
    "name": "ipython",
    "version": 3
   },
   "file_extension": ".py",
   "mimetype": "text/x-python",
   "name": "python",
   "nbconvert_exporter": "python",
   "pygments_lexer": "ipython3",
   "version": "3.8.3"
  }
 },
 "nbformat": 4,
 "nbformat_minor": 4
}
