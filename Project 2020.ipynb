{
 "cells": [
  {
   "cell_type": "markdown",
   "metadata": {},
   "source": [
    "# Programming for Data Analysis Project 2020"
   ]
  },
  {
   "cell_type": "markdown",
   "metadata": {},
   "source": [
    "## By Carol Treacy"
   ]
  },
  {
   "cell_type": "markdown",
   "metadata": {},
   "source": [
    "Problem statementFor this project you must create a data set by simulating a real-world phenomenon ofyour choosing.  You may pick any phenomenon you wish – you might pick one that isof interest to you in your personal or professional life.  Then, rather than collect datarelated to the phenomenon, you should model and synthesise such data using Python.We suggest you use thenumpy.randompackage for this purpose.Specifically, in this project you should:•Choose a real-world phenomenon that can be measured and for which you couldcollect at least one-hundred data points across at least four different variables.•Investigate  the  types  of  variables  involved,  their  likely  distributions,  and  theirrelationships with each other.•Synthesise/simulate a data set as closely matching their properties as possible.•Detail your research and implement the simulation in a Jupyter notebook – thedata set itself can simply be displayed in an output cell within the notebook.Note that this project is about simulation – you must synthesise a data set.  Somestudents may already have some real-world data sets in their own files.  It is okay tobase your synthesised data set on these should you wish (please reference it if you do),but the main task in this project is to create a synthesised data set.  The next sectiongives an example project idea."
   ]
  },
  {
   "cell_type": "markdown",
   "metadata": {},
   "source": [
    "## Table of contents"
   ]
  },
  {
   "cell_type": "markdown",
   "metadata": {},
   "source": [
    "- Introduction \n",
    "\n",
    "- Objectives\n",
    "\n",
    "- Import data from libraries\n",
    "\n",
    "- Research Topic\n",
    "\n",
    "- Generate data\n",
    "\n",
    "- Relationships\n",
    "\n",
    "- Data Exploration\n",
    "\n",
    "- Distribution\n",
    "\n",
    "- Conclusion\n",
    "\n",
    "- References\n",
    "\n",
    "- End"
   ]
  },
  {
   "cell_type": "markdown",
   "metadata": {},
   "source": [
    "## Introduction "
   ]
  },
  {
   "cell_type": "markdown",
   "metadata": {},
   "source": [
    "This Project is going to choose a real-world phenomenon of my personal interest and randomly select the data.  Instead of choosing a phenomenon that has data already collected, I will model and synthesise my own data using Python.  I will use numpy.randompackge to simulate my real-world phenomenon."
   ]
  },
  {
   "cell_type": "markdown",
   "metadata": {},
   "source": [
    "## Objectives"
   ]
  },
  {
   "cell_type": "markdown",
   "metadata": {},
   "source": [
    "- Simulate a real work phonomenon\n",
    "- Select one hundred data points with four different variables\n",
    "- Investigate the types of variables, distrubtion and relationships\n",
    "- Synthesise/simulate a data set as closely matching their properties as possible"
   ]
  },
  {
   "cell_type": "markdown",
   "metadata": {},
   "source": [
    "## Import data from libraries"
   ]
  },
  {
   "cell_type": "code",
   "execution_count": 3,
   "metadata": {},
   "outputs": [],
   "source": [
    "# to start using numpy.random you have to import numpy, matplotlib, pandas and seaborn\n",
    "import numpy as np\n",
    "from numpy import random\n",
    "import matplotlib.pyplot as plt\n",
    "import pandas as pd\n",
    "import seaborn as sns"
   ]
  },
  {
   "cell_type": "markdown",
   "metadata": {},
   "source": [
    "## Research topic"
   ]
  },
  {
   "cell_type": "markdown",
   "metadata": {},
   "source": [
    "The real-world phenomenon that I am going to chose is shopping in store or shopping online.  I will use the month of October 2020 and create random data using the numpy.random package."
   ]
  },
  {
   "cell_type": "markdown",
   "metadata": {},
   "source": [
    "## Generate Data"
   ]
  },
  {
   "cell_type": "code",
   "execution_count": 6,
   "metadata": {},
   "outputs": [
    {
     "name": "stdout",
     "output_type": "stream",
     "text": [
      "2020-12-16 09:43:05.490449\n"
     ]
    }
   ],
   "source": [
    "# immport datetime and printed today's date\n",
    "import datetime\n",
    "\n",
    "x = datetime.datetime.now()\n",
    "print(x)"
   ]
  },
  {
   "cell_type": "code",
   "execution_count": 9,
   "metadata": {},
   "outputs": [
    {
     "name": "stdout",
     "output_type": "stream",
     "text": [
      "2020-09-28\n",
      "2020-09-29\n",
      "2020-09-30\n",
      "2020-10-01\n",
      "2020-10-02\n",
      "2020-10-03\n",
      "2020-10-04\n",
      "2020-10-05\n",
      "2020-10-06\n",
      "2020-10-07\n",
      "2020-10-08\n",
      "2020-10-09\n",
      "2020-10-10\n",
      "2020-10-11\n",
      "2020-10-12\n",
      "2020-10-13\n",
      "2020-10-14\n",
      "2020-10-15\n",
      "2020-10-16\n",
      "2020-10-17\n",
      "2020-10-18\n",
      "2020-10-19\n",
      "2020-10-20\n",
      "2020-10-21\n",
      "2020-10-22\n",
      "2020-10-23\n",
      "2020-10-24\n",
      "2020-10-25\n",
      "2020-10-26\n",
      "2020-10-27\n",
      "2020-10-28\n"
     ]
    }
   ],
   "source": [
    "# code started from https://stackoverflow.com/questions/57274902/python-iterate-over-all-days-in-a-month\n",
    "\n",
    "# I couldn't get this to print calendar month \n",
    "\n",
    "from calendar import Calendar, monthrange\n",
    "c = Calendar()\n",
    "\n",
    "for date in list(c.itermonthdates(2020, 10))[:monthrange(2020, 10)[1]]:\n",
    "    print(date)  "
   ]
  },
  {
   "cell_type": "code",
   "execution_count": 10,
   "metadata": {},
   "outputs": [
    {
     "data": {
      "text/plain": [
       "[datetime.date(2020, 10, 1),\n",
       " datetime.date(2020, 10, 2),\n",
       " datetime.date(2020, 10, 3),\n",
       " datetime.date(2020, 10, 4),\n",
       " datetime.date(2020, 10, 5),\n",
       " datetime.date(2020, 10, 6),\n",
       " datetime.date(2020, 10, 7),\n",
       " datetime.date(2020, 10, 8),\n",
       " datetime.date(2020, 10, 9),\n",
       " datetime.date(2020, 10, 10),\n",
       " datetime.date(2020, 10, 11),\n",
       " datetime.date(2020, 10, 12),\n",
       " datetime.date(2020, 10, 13),\n",
       " datetime.date(2020, 10, 14),\n",
       " datetime.date(2020, 10, 15),\n",
       " datetime.date(2020, 10, 16),\n",
       " datetime.date(2020, 10, 17),\n",
       " datetime.date(2020, 10, 18),\n",
       " datetime.date(2020, 10, 19),\n",
       " datetime.date(2020, 10, 20),\n",
       " datetime.date(2020, 10, 21),\n",
       " datetime.date(2020, 10, 22),\n",
       " datetime.date(2020, 10, 23),\n",
       " datetime.date(2020, 10, 24),\n",
       " datetime.date(2020, 10, 25),\n",
       " datetime.date(2020, 10, 26),\n",
       " datetime.date(2020, 10, 27),\n",
       " datetime.date(2020, 10, 28),\n",
       " datetime.date(2020, 10, 29),\n",
       " datetime.date(2020, 10, 30),\n",
       " datetime.date(2020, 10, 31)]"
      ]
     },
     "execution_count": 10,
     "metadata": {},
     "output_type": "execute_result"
    }
   ],
   "source": [
    "# code started from https://stackoverflow.com/questions/21231789/how-to-get-all-days-in-current-month\n",
    "\n",
    "import datetime, calendar\n",
    "year = 2020\n",
    "month = 10\n",
    "num_days = calendar.monthrange(year, month)[1]\n",
    "days = [datetime.date(year, month, day) for day in range(1, num_days+1)]\n",
    "days"
   ]
  },
  {
   "cell_type": "code",
   "execution_count": 13,
   "metadata": {},
   "outputs": [],
   "source": [
    "y = days\n"
   ]
  },
  {
   "cell_type": "code",
   "execution_count": 14,
   "metadata": {},
   "outputs": [
    {
     "data": {
      "text/plain": [
       "[datetime.date(2020, 10, 1),\n",
       " datetime.date(2020, 10, 2),\n",
       " datetime.date(2020, 10, 3),\n",
       " datetime.date(2020, 10, 4),\n",
       " datetime.date(2020, 10, 5),\n",
       " datetime.date(2020, 10, 6),\n",
       " datetime.date(2020, 10, 7),\n",
       " datetime.date(2020, 10, 8),\n",
       " datetime.date(2020, 10, 9),\n",
       " datetime.date(2020, 10, 10),\n",
       " datetime.date(2020, 10, 11),\n",
       " datetime.date(2020, 10, 12),\n",
       " datetime.date(2020, 10, 13),\n",
       " datetime.date(2020, 10, 14),\n",
       " datetime.date(2020, 10, 15),\n",
       " datetime.date(2020, 10, 16),\n",
       " datetime.date(2020, 10, 17),\n",
       " datetime.date(2020, 10, 18),\n",
       " datetime.date(2020, 10, 19),\n",
       " datetime.date(2020, 10, 20),\n",
       " datetime.date(2020, 10, 21),\n",
       " datetime.date(2020, 10, 22),\n",
       " datetime.date(2020, 10, 23),\n",
       " datetime.date(2020, 10, 24),\n",
       " datetime.date(2020, 10, 25),\n",
       " datetime.date(2020, 10, 26),\n",
       " datetime.date(2020, 10, 27),\n",
       " datetime.date(2020, 10, 28),\n",
       " datetime.date(2020, 10, 29),\n",
       " datetime.date(2020, 10, 30),\n",
       " datetime.date(2020, 10, 31)]"
      ]
     },
     "execution_count": 14,
     "metadata": {},
     "output_type": "execute_result"
    }
   ],
   "source": [
    "y"
   ]
  },
  {
   "cell_type": "markdown",
   "metadata": {},
   "source": [
    "## SQLite in Python"
   ]
  },
  {
   "cell_type": "code",
   "execution_count": 29,
   "metadata": {},
   "outputs": [],
   "source": [
    "# create data base for random data\n",
    "import sqlite3\n"
   ]
  },
  {
   "cell_type": "code",
   "execution_count": 44,
   "metadata": {},
   "outputs": [],
   "source": [
    "conn = sqlite3.connect('shopping.db')"
   ]
  },
  {
   "cell_type": "code",
   "execution_count": 45,
   "metadata": {},
   "outputs": [],
   "source": [
    "c = conn.cursor()"
   ]
  },
  {
   "cell_type": "code",
   "execution_count": null,
   "metadata": {},
   "outputs": [],
   "source": []
  },
  {
   "cell_type": "code",
   "execution_count": 47,
   "metadata": {},
   "outputs": [],
   "source": [
    "# Create table\n",
    "c.execute('CREATE TABLE data(date text, day text, gender text, age text, address text, amount real)')\n",
    "conn.commit()"
   ]
  },
  {
   "cell_type": "code",
   "execution_count": 49,
   "metadata": {},
   "outputs": [
    {
     "ename": "OperationalError",
     "evalue": "no such column: date",
     "output_type": "error",
     "traceback": [
      "\u001b[1;31m---------------------------------------------------------------------------\u001b[0m",
      "\u001b[1;31mOperationalError\u001b[0m                          Traceback (most recent call last)",
      "\u001b[1;32m<ipython-input-49-3ee8eccc4ae6>\u001b[0m in \u001b[0;36m<module>\u001b[1;34m\u001b[0m\n\u001b[0;32m      1\u001b[0m \u001b[1;31m# Create table\u001b[0m\u001b[1;33m\u001b[0m\u001b[1;33m\u001b[0m\u001b[1;33m\u001b[0m\u001b[0m\n\u001b[1;32m----> 2\u001b[1;33m \u001b[0mc\u001b[0m\u001b[1;33m.\u001b[0m\u001b[0mexecute\u001b[0m\u001b[1;33m(\u001b[0m\u001b[1;34m\"SELECT date FROM sqlite_master WHERE type='table'\"\u001b[0m\u001b[1;33m)\u001b[0m\u001b[1;33m\u001b[0m\u001b[1;33m\u001b[0m\u001b[0m\n\u001b[0m\u001b[0;32m      3\u001b[0m \u001b[0mc\u001b[0m\u001b[1;33m.\u001b[0m\u001b[0mfetchall\u001b[0m\u001b[1;33m(\u001b[0m\u001b[1;33m)\u001b[0m\u001b[1;33m\u001b[0m\u001b[1;33m\u001b[0m\u001b[0m\n",
      "\u001b[1;31mOperationalError\u001b[0m: no such column: date"
     ]
    }
   ],
   "source": [
    "# Create table\n",
    "c.execute(\"SELECT date FROM sqlite_master WHERE type='table'\")\n",
    "c.fetchall()"
   ]
  },
  {
   "cell_type": "code",
   "execution_count": null,
   "metadata": {},
   "outputs": [],
   "source": []
  },
  {
   "cell_type": "code",
   "execution_count": null,
   "metadata": {},
   "outputs": [],
   "source": []
  },
  {
   "cell_type": "code",
   "execution_count": null,
   "metadata": {},
   "outputs": [],
   "source": []
  },
  {
   "cell_type": "code",
   "execution_count": null,
   "metadata": {},
   "outputs": [],
   "source": [
    "\n",
    "\n",
    "# Create table\n",
    "c.execute('''CREATE TABLE shopping data\n",
    "             (date text, day text, gender text, age text, address text, online Yes/No text)''')\n",
    "\n",
    "# Insert a row of data\n",
    "c.execute(\"INSERT INTO date VALUES ('2006-01-05','BUY','RHAT',100,35.14)\")\n",
    "\n",
    "# Save (commit) the changes\n",
    "conn.commit()\n",
    "\n",
    "# We can also close the connection if we are done with it.\n",
    "# Just be sure any changes have been committed or they will be lost.\n",
    "conn.close()"
   ]
  },
  {
   "cell_type": "code",
   "execution_count": null,
   "metadata": {},
   "outputs": [],
   "source": []
  },
  {
   "cell_type": "code",
   "execution_count": null,
   "metadata": {},
   "outputs": [],
   "source": []
  },
  {
   "cell_type": "markdown",
   "metadata": {},
   "source": [
    "## Relationships"
   ]
  },
  {
   "cell_type": "code",
   "execution_count": null,
   "metadata": {},
   "outputs": [],
   "source": []
  },
  {
   "cell_type": "markdown",
   "metadata": {},
   "source": [
    "## Data exploration"
   ]
  },
  {
   "cell_type": "code",
   "execution_count": 21,
   "metadata": {},
   "outputs": [
    {
     "ename": "NameError",
     "evalue": "name 'df' is not defined",
     "output_type": "error",
     "traceback": [
      "\u001b[1;31m---------------------------------------------------------------------------\u001b[0m",
      "\u001b[1;31mNameError\u001b[0m                                 Traceback (most recent call last)",
      "\u001b[1;32m<ipython-input-21-633337079cd0>\u001b[0m in \u001b[0;36m<module>\u001b[1;34m\u001b[0m\n\u001b[1;32m----> 1\u001b[1;33m \u001b[0mdf\u001b[0m\u001b[1;33m.\u001b[0m\u001b[0mshape\u001b[0m\u001b[1;33m\u001b[0m\u001b[1;33m\u001b[0m\u001b[0m\n\u001b[0m",
      "\u001b[1;31mNameError\u001b[0m: name 'df' is not defined"
     ]
    }
   ],
   "source": [
    "df.shape"
   ]
  },
  {
   "cell_type": "code",
   "execution_count": 64,
   "metadata": {},
   "outputs": [
    {
     "data": {
      "text/plain": [
       "<bound method NDFrame.describe of Empty DataFrame\n",
       "Columns: []\n",
       "Index: []>"
      ]
     },
     "execution_count": 64,
     "metadata": {},
     "output_type": "execute_result"
    }
   ],
   "source": [
    "df.describe"
   ]
  },
  {
   "cell_type": "code",
   "execution_count": null,
   "metadata": {},
   "outputs": [],
   "source": [
    "plot"
   ]
  },
  {
   "cell_type": "markdown",
   "metadata": {},
   "source": [
    "## Distribution"
   ]
  },
  {
   "cell_type": "code",
   "execution_count": null,
   "metadata": {},
   "outputs": [],
   "source": []
  },
  {
   "cell_type": "markdown",
   "metadata": {},
   "source": [
    "## Conclusion"
   ]
  },
  {
   "cell_type": "code",
   "execution_count": null,
   "metadata": {},
   "outputs": [],
   "source": []
  },
  {
   "cell_type": "markdown",
   "metadata": {},
   "source": [
    "## Reference"
   ]
  },
  {
   "cell_type": "markdown",
   "metadata": {},
   "source": [
    "https://stackoverflow.com/questions/57274902/python-iterate-over-all-days-in-a-month\n",
    "\n",
    "https://stackoverflow.com/questions/21231789/how-to-get-all-days-in-current-month"
   ]
  },
  {
   "cell_type": "markdown",
   "metadata": {},
   "source": [
    "## End"
   ]
  }
 ],
 "metadata": {
  "kernelspec": {
   "display_name": "Python 3",
   "language": "python",
   "name": "python3"
  },
  "language_info": {
   "codemirror_mode": {
    "name": "ipython",
    "version": 3
   },
   "file_extension": ".py",
   "mimetype": "text/x-python",
   "name": "python",
   "nbconvert_exporter": "python",
   "pygments_lexer": "ipython3",
   "version": "3.8.3"
  }
 },
 "nbformat": 4,
 "nbformat_minor": 4
}
